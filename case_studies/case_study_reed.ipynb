{
 "cells": [
  {
   "cell_type": "markdown",
   "metadata": {},
   "source": [
    "# Case study: Reed breast leukocyte data\n",
    "\n",
    "This notebook generates results for a case study that uses a [Human Breast Cell Atlas dataset](https://cellxgene.cziscience.com/collections/48259aa8-f168-4bf5-b797-af8e88da6637).\n",
    "\n",
    "This is an example where we use the Extended Neighbourhood-Proportion-Error (xNPE) to compare embedding distortion of different cell populations, as well as neighbourhood composition plots to reveal sources of distortion."
   ]
  },
  {
   "cell_type": "markdown",
   "metadata": {},
   "source": [
    "<hr>\n",
    "\n",
    "## **0.** Load required modules\n",
    "\n",
    "In addition to `ViVAE`, `ViScore` and their dependenceis, you will need to have `umap` installed in your conda environment."
   ]
  },
  {
   "cell_type": "code",
   "execution_count": null,
   "metadata": {},
   "outputs": [],
   "source": [
    "import warnings\n",
    "warnings.filterwarnings('ignore')\n",
    "import os\n",
    "import copy\n",
    "import numpy as np\n",
    "import pandas as pd\n",
    "import matplotlib as mpl\n",
    "import matplotlib.pyplot as plt\n",
    "import vivae as vv\n",
    "import viscore as vs\n",
    "from sklearn.manifold import TSNE\n",
    "from umap import UMAP\n",
    "import torch\n",
    "import anndata as ad\n",
    "import scanpy as sc\n",
    "import flowsom as fs"
   ]
  },
  {
   "cell_type": "markdown",
   "metadata": {},
   "source": [
    "## **1.** Load input data\n",
    "\n",
    "See the ViScore [benchmarking](https://github.com/saeyslab/ViScore/tree/main/benchmarking) page for instructions on how to obtain and pre-process the Reed data."
   ]
  },
  {
   "cell_type": "code",
   "execution_count": null,
   "metadata": {},
   "outputs": [],
   "source": [
    "## Load input data\n",
    "\n",
    "dataset = 'Reed'\n",
    "\n",
    "hd    = sc.read_h5ad(f'./{dataset}.h5ad')\n",
    "pc    = np.load(os.path.join('..', 'data', f'{dataset}_input.npy'),          allow_pickle=True)\n",
    "pc_d  = np.load(os.path.join('..', 'data', f'{dataset}_input_denoised.npy'), allow_pickle=True)\n",
    "labs  = np.load(os.path.join('..', 'data', f'{dataset}_labels.npy'),         allow_pickle=True)\n",
    "unass = np.load(os.path.join('..', 'data', f'{dataset}_unassigned.npy'),     allow_pickle=True).item()"
   ]
  },
  {
   "cell_type": "markdown",
   "metadata": {},
   "source": [
    "We will also generate (or load) a *k*-nearest-neighbour graph for 1000 neighbours, to use for the xNPE computation."
   ]
  },
  {
   "cell_type": "code",
   "execution_count": null,
   "metadata": {},
   "outputs": [],
   "source": [
    "knn1000 = vs.make_knn(pc, fname=os.path.join('..', 'data', f'{dataset}_knn1000.npy'), k=1000, random_state=42)"
   ]
  },
  {
   "cell_type": "markdown",
   "metadata": {},
   "source": [
    "## **2.** Generating embeddings\n",
    "\n",
    "We use *t*-SNE, UMAP and ViVAE to generate embeddings of this dataset.\n",
    "We use default hyperparameter values, with denoising for *ViVAE*.\n",
    "(See our paper for ablation studies about denoising.)\n",
    "\n",
    "We use the `random_state` argument in model constructors, and manual seeds for `numpy` and `torch`.\n",
    "This should achieve reproducibility across runs on a single machine (with the same GPU/CPU device for *ViVAE*).\n",
    "If complete reproducibility (*ie.*, identical results) is not achieved with *ViVAE*, consult [this document](https://pytorch.org/docs/stable/notes/randomness.html) for troubleshooting."
   ]
  },
  {
   "cell_type": "code",
   "execution_count": null,
   "metadata": {},
   "outputs": [],
   "source": [
    "## Train t-SNE model & transform inputs\n",
    "\n",
    "model_tsne = TSNE(n_components=2, random_state=1)\n",
    "emb_tsne = model_tsne.fit_transform(pc)\n",
    "np.save('Reed_emb_tsne.npy', emb_tsne, allow_pickle=True)"
   ]
  },
  {
   "cell_type": "code",
   "execution_count": null,
   "metadata": {},
   "outputs": [],
   "source": [
    "## Train UMAP model & transform inputs\n",
    "\n",
    "model_umap = UMAP(n_components=2, random_state=1)\n",
    "emb_umap = model_umap.fit_transform(pc)\n",
    "np.save('Reed_emb_umap.npy', emb_umap, allow_pickle=True)"
   ]
  },
  {
   "cell_type": "code",
   "execution_count": null,
   "metadata": {},
   "outputs": [],
   "source": [
    "## Train ViVAE model & transform inputs\n",
    "\n",
    "np.random.seed(1)\n",
    "torch.manual_seed(1)\n",
    "model_vivae = vv.ViVAE(input_dim=pc.shape[1], latent_dim=2, random_state=1)\n",
    "model_vivae.fit(pc_d)\n",
    "emb_vivae = model_vivae.transform(pc_d)\n",
    "np.save('Reed_emb_vivae_seed1.npy', emb_vivae, allow_pickle=True)"
   ]
  },
  {
   "cell_type": "code",
   "execution_count": null,
   "metadata": {},
   "outputs": [],
   "source": [
    "## Generate 4 more ViVAE embeddings to test changes due to stochasticity\n",
    "\n",
    "for irun in [2,3,4,5]:\n",
    "    np.random.seed(irun)\n",
    "    torch.manual_seed(irun)\n",
    "    model_vivae = vv.ViVAE(input_dim=pc.shape[1], latent_dim=2, random_state=irun)\n",
    "    model_vivae.fit(pc_d, verbose=False)\n",
    "    emb_vivae = model_vivae.transform(pc_d)\n",
    "    np.save(f'Reed_emb_vivae_seed{irun}.npy', emb_vivae, allow_pickle=True)"
   ]
  },
  {
   "cell_type": "code",
   "execution_count": null,
   "metadata": {},
   "outputs": [],
   "source": [
    "emb_vivae = np.load('Reed_emb_vivae_seed1.npy', allow_pickle=True)"
   ]
  },
  {
   "cell_type": "markdown",
   "metadata": {},
   "source": [
    "## **3.** Compute population-level xNPE scores"
   ]
  },
  {
   "cell_type": "markdown",
   "metadata": {},
   "source": [
    "We use xNPE scoring to quantify misembedding of labelled cell populations using the 1000-nearest-neighbour graph built earlier."
   ]
  },
  {
   "cell_type": "code",
   "execution_count": null,
   "metadata": {},
   "outputs": [],
   "source": [
    "## Compute xNPE\n",
    "\n",
    "xnpe_tsne  = vs.xnpe(hd=pc, ld=emb_tsne,  annot=labs, knn=knn1000, random_state=42)\n",
    "xnpe_umap  = vs.xnpe(hd=pc, ld=emb_umap,  annot=labs, knn=knn1000, random_state=42)\n",
    "xnpe_vivae = vs.xnpe(hd=pc, ld=emb_vivae, annot=labs, knn=knn1000, random_state=42)"
   ]
  },
  {
   "cell_type": "code",
   "execution_count": null,
   "metadata": {},
   "outputs": [],
   "source": [
    "## Save xNPE results\n",
    "\n",
    "np.save('Reed_xnpe_tsne.npy',  xnpe_tsne, allow_pickle=True)\n",
    "np.save('Reed_xnpe_umap.npy',  xnpe_umap, allow_pickle=True)\n",
    "np.save('Reed_xnpe_vivae.npy', xnpe_vivae, allow_pickle=True)"
   ]
  },
  {
   "cell_type": "markdown",
   "metadata": {},
   "source": [
    "## **4.** Plot generated embeddings\n",
    "\n",
    "Using a palette or more-or-less distinctive colours, we plot the 2-d layouts of the data that we obtained from the three methods."
   ]
  },
  {
   "cell_type": "code",
   "execution_count": null,
   "metadata": {},
   "outputs": [],
   "source": [
    "palette = {\n",
    "    'CD4-positive helper T cell':                           'sandybrown',\n",
    "    'CD8-positive, alpha-beta memory T cell':               '#c1c86c',\n",
    "    'Tc1 cell':                                             '#699dc0',\n",
    "    'class switched memory B cell':                         '#d889c1',\n",
    "    'dendritic cell':                                       '#a89ef4',\n",
    "    'effector memory CD8-positive, alpha-beta T cell':      'firebrick',\n",
    "    'innate lymphoid cell':                                 '#757469',\n",
    "    'macrophage':                                           'olive',\n",
    "    'mature NK T cell':                                     '#87d7d6',\n",
    "    'naive B cell':                                         '#6afd6e',\n",
    "    'naive thymus-derived CD4-positive, alpha-beta T cell': 'rebeccapurple',\n",
    "    'natural killer cell':                                  'chocolate',\n",
    "    'plasma cell':                                          'black',\n",
    "    'unknown':                                              '#74c7c0',\n",
    "    'unswitched memory B cell':                             'goldenrod' \n",
    "}"
   ]
  },
  {
   "cell_type": "code",
   "execution_count": null,
   "metadata": {},
   "outputs": [],
   "source": [
    "mpl.rcParams['axes.linewidth'] = 0.1\n",
    "pops = list(palette.keys())\n",
    "methods = ['t-SNE', 'UMAP', 'ViVAE']\n",
    "nmet = len(methods)\n",
    "fig, ax = plt.subplots(nrows=1, ncols=3, figsize=(5, 1.75), dpi=150)\n",
    "fig.subplots_adjust(wspace=.05)\n",
    "handles = []\n",
    "labels = []\n",
    "embs = [emb_tsne, emb_umap, emb_vivae]\n",
    "s = .01\n",
    "for i, method in enumerate(methods):\n",
    "        idcs0 = np.where(labs==unass)[0]\n",
    "        idcs1 = np.delete(np.arange(len(labs)), idcs0)\n",
    "        emb = embs[i]\n",
    "        ax[i].scatter(emb[idcs0,0], emb[idcs0,1], s=s, c='#bfbfbf', alpha=1., linewidths=0)\n",
    "        idx_pop = 0\n",
    "        l = np.delete(labs, idcs0)\n",
    "        for pop in np.unique(l):\n",
    "            idcs = np.where(l == pop)[0]\n",
    "            if i==(len(methods)-1):\n",
    "                ax[i].scatter(emb[idcs1[idcs],0], emb[idcs1[idcs],1], label=pop, s=s, c=palette[pop], alpha=1., linewidth=.5)\n",
    "            else:\n",
    "                ax[i].scatter(emb[idcs1[idcs],0], emb[idcs1[idcs],1], s=s, c=palette[pop], alpha=1., linewidth=.5)\n",
    "            ax[i].tick_params(axis='both', labelbottom=False, labelleft=False, bottom=False, left=False)\n",
    "            idx_pop += 1\n",
    "        ax[i].axis('equal')\n",
    "        ax[i].set_title(f'  {methods[i]}', size=7, ha='left', x=-.03, y=.98)\n",
    "        if i==(len(methods)-1):\n",
    "            # Re-order points in legend to make them more sensible (ad hoc!)\n",
    "            handles, labels = plt.gca().get_legend_handles_labels()\n",
    "            order = [0,1,2,5,10,8,11,4,9,13,3,12,7,6]\n",
    "            \n",
    "            fig.legend([handles[idx] for idx in order],[labels[idx] for idx in order], bbox_to_anchor=(1.35, .92), fontsize=5, markerscale=50.)\n",
    "\n",
    "fig.savefig('Reed_A_embeddings.png', bbox_inches='tight', dpi=300, transparent=True)\n",
    "fig.savefig('Reed_A_embeddings.svg', bbox_inches='tight', transparent=True)"
   ]
  },
  {
   "cell_type": "markdown",
   "metadata": {},
   "source": [
    "## **5.** Plot xNPE and neighoburhood compositions\n",
    "\n",
    "Next, we generate diagnostic plots.\n",
    "We pick a population of interest (`poi`: `'natural killer cell`), highlight it in the embeddings, show xNPE values for it and all other populations (for the three different methods) and create neighbourhood composition plots that show sources of embedding error for this POI."
   ]
  },
  {
   "cell_type": "code",
   "execution_count": null,
   "metadata": {},
   "outputs": [],
   "source": [
    "## Set population of interest (POI)\n",
    "\n",
    "poi = 'natural killer cell'"
   ]
  },
  {
   "cell_type": "code",
   "execution_count": null,
   "metadata": {},
   "outputs": [],
   "source": [
    "## Highlight the POI in 2-d layouts\n",
    "\n",
    "mpl.rcParams['axes.linewidth'] = 0.1\n",
    "pops = list(xnpe_tsne.keys())\n",
    "methods = ['t-SNE', 'UMAP', 'ViVAE']\n",
    "nmet = len(methods)\n",
    "fig, ax = plt.subplots(nrows=1, ncols=3, figsize=(5, 1.75), dpi=150)\n",
    "fig.subplots_adjust(wspace=.05)\n",
    "handles = []\n",
    "labels = []\n",
    "embs = [emb_tsne, emb_umap, emb_vivae]\n",
    "s = .01\n",
    "\n",
    "idcs_nk = np.where(labs==poi)[0]\n",
    "for i, method in enumerate(methods):\n",
    "\n",
    "        emb = embs[i]\n",
    "        ax[i].scatter(emb[:,0], emb[:,1], s=s, c='grey', alpha=1., linewidth=.5)\n",
    "        ax[i].scatter(emb[idcs_nk,0], emb[idcs_nk,1], s=1., c=palette[poi], alpha=1., linewidth=.5)\n",
    "\n",
    "        ax[i].axis('equal')\n",
    "        ax[i].tick_params(axis='both', labelbottom=False, labelleft=False, bottom=False, left=False)\n",
    "fig.savefig('reed_B_embeddings_poi.png', bbox_inches='tight', dpi=300, transparent=True)\n",
    "fig.savefig('reed_B_embeddings_poi.svg', bbox_inches='tight', transparent=True)"
   ]
  },
  {
   "cell_type": "code",
   "execution_count": null,
   "metadata": {},
   "outputs": [],
   "source": [
    "## Aggregate xNPE values for all populations for all 3 embeddings\n",
    "\n",
    "pops = list(xnpe_tsne.keys())\n",
    "methods = ['t-SNE', 'UMAP', 'ViVAE']\n",
    "nmet = len(methods)\n",
    "d = pd.DataFrame(\n",
    "    data=np.vstack([list(xnpe_tsne.values()), list(xnpe_umap.values()), list(xnpe_vivae.values())]),\n",
    "    columns=pops\n",
    ")\n",
    "d.index = methods\n",
    "d = d.drop(unass, axis=1)\n",
    "pops = list(d.keys())\n",
    "npop = len(pops)"
   ]
  },
  {
   "cell_type": "code",
   "execution_count": null,
   "metadata": {},
   "outputs": [],
   "source": [
    "d"
   ]
  },
  {
   "cell_type": "code",
   "execution_count": null,
   "metadata": {},
   "outputs": [],
   "source": [
    "## Plot the xNPE values using a barplot\n",
    "\n",
    "fig, ax = plt.subplots(figsize=(2,4), dpi=150)\n",
    "mpl.rcParams['axes.linewidth'] = 0.1\n",
    "pal = ['orange', 'teal', 'darkred']\n",
    "n = npop*(nmet+1)\n",
    "\n",
    "for i, method in enumerate(methods):\n",
    "    for j, pop in enumerate(pops):\n",
    "        if j==0:\n",
    "            ax.barh(y=j*(nmet+1)+i, width=d[pop][method], color=pal[i], label=method)\n",
    "        else:\n",
    "            ax.barh(y=j*(nmet+1)+i, width=d[pop][method], color=pal[i])\n",
    "ax.set_xlim((0., 1.2))\n",
    "ax.set_ylim((-1, n))\n",
    "pop_labels = copy.deepcopy(pops)\n",
    "ax.set_yticks(ticks=np.arange(npop)*(nmet+1)+1, labels=pop_labels)\n",
    "ax.tick_params(axis='both', labelsize=6)\n",
    "plt.gca().invert_yaxis()\n",
    "\n",
    "fig.legend(bbox_to_anchor=(.88, .845), fontsize=6)\n",
    "fig.savefig('reed_C_barplot.png', bbox_inches='tight', dpi=300, transparent=True)\n",
    "fig.savefig('reed_C_barplot.svg', bbox_inches='tight', transparent=True)"
   ]
  },
  {
   "cell_type": "code",
   "execution_count": null,
   "metadata": {},
   "outputs": [],
   "source": [
    "## Calculate neighbourhood compositions per population per embedding\n",
    "\n",
    "pop      = poi\n",
    "nc_hd    = vs.neighbourhood_composition(X=pc, pop=pop, annot=labs, k=1000, stepsize=10, random_state=42)\n",
    "nc_tsne  = vs.neighbourhood_composition(X=emb_tsne, pop=pop, annot=labs, k=1000, stepsize=10, random_state=42)\n",
    "nc_umap  = vs.neighbourhood_composition(X=emb_umap, pop=pop, annot=labs, k=1000, stepsize=10, random_state=42)\n",
    "nc_vivae = vs.neighbourhood_composition(X=emb_vivae, pop=pop, annot=labs, k=1000, stepsize=10, random_state=42)"
   ]
  },
  {
   "cell_type": "code",
   "execution_count": null,
   "metadata": {},
   "outputs": [],
   "source": [
    "nc_vivae_all = [vs.neighbourhood_composition(X=np.load(fname, allow_pickle=True), pop=pop, annot=labs, k=1000, stepsize=10, random_state=42) for fname in [f'Reed_emb_vivae_seed{seed}.npy' for seed in [1,2,3,4,5]]]"
   ]
  },
  {
   "cell_type": "code",
   "execution_count": null,
   "metadata": {},
   "outputs": [],
   "source": [
    "## Plot neighbourhood compositions\n",
    "\n",
    "palette_without_poi = np.array(list(palette.values()))[np.where([x!=pop for x in list(palette.keys())])[0]]\n",
    "\n",
    "fig, ax = plt.subplots(ncols=1, nrows=4, figsize=(3, 5), dpi=150, sharey=True, sharex=True)\n",
    "mpl.rcParams['axes.linewidth'] = 0.1\n",
    "fig.subplots_adjust(hspace=.35)\n",
    "\n",
    "for i, nc in enumerate([nc_hd, nc_tsne, nc_umap, nc_vivae]):\n",
    "    y = np.vstack(nc[3])\n",
    "    ax[i].stackplot(nc[4], y.T, labels=nc[1], colors=palette_without_poi)\n",
    "    ax[i].set_ylim((0.,1.))\n",
    "    ax[i].set_xlim((min(nc[4]), max(nc[4])))\n",
    "    ax[i].set_title(['HD data', 't-SNE', 'UMAP', 'ViVAE'][i], size=7, ha='left', x=.0, y=.96)\n",
    "    ax[i].tick_params(axis='both', labelsize=5)\n",
    "\n",
    "ax[3].set_ylabel('Neighbour proportion', loc='bottom', size=7)\n",
    "ax[3].set_xlabel('Neighbourhood rank', loc='left', size=7)\n",
    "\n",
    "fig.savefig('reed_D_ncp.png', bbox_inches='tight', dpi=300, transparent=True)\n",
    "fig.savefig('reed_D_npc.svg', bbox_inches='tight', transparent=True)"
   ]
  }
 ],
 "metadata": {
  "kernelspec": {
   "display_name": "ViVAE",
   "language": "python",
   "name": "python3"
  },
  "language_info": {
   "codemirror_mode": {
    "name": "ipython",
    "version": 3
   },
   "file_extension": ".py",
   "mimetype": "text/x-python",
   "name": "python",
   "nbconvert_exporter": "python",
   "pygments_lexer": "ipython3",
   "version": "3.11.9"
  }
 },
 "nbformat": 4,
 "nbformat_minor": 2
}
