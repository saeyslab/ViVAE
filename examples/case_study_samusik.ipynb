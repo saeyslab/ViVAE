{
 "cells": [
  {
   "cell_type": "markdown",
   "metadata": {},
   "source": [
    "# Case study: Samusik bone marrow CyTOF data\n",
    "\n",
    "This notebook generates results for a case study that uses a [mass cytometry (CyTOF) mouse bone marrow dataset](https://pubmed.ncbi.nlm.nih.gov/27183440/).\n",
    "\n",
    "This is basically just to illustrate integration with FlowSOM and how the MST topology can be verified using ViVAE embeddings.\n",
    "\n",
    "<hr>\n",
    "\n",
    "## **0.** Load required modules"
   ]
  },
  {
   "cell_type": "code",
   "execution_count": null,
   "metadata": {},
   "outputs": [],
   "source": [
    "import warnings\n",
    "warnings.filterwarnings('ignore')\n",
    "import os\n",
    "import numpy as np\n",
    "import pandas as pd\n",
    "import matplotlib as mpl\n",
    "import matplotlib.pyplot as plt\n",
    "import matplotlib.collections as mc\n",
    "from matplotlib.patches import Circle, Wedge\n",
    "import ViVAE\n",
    "import torch\n",
    "import flowsom as fs"
   ]
  },
  {
   "cell_type": "markdown",
   "metadata": {},
   "source": [
    "## **1.** Load input data\n",
    "\n",
    "See the ViScore [benchmarking](https://github.com/saeyslab/ViScore/tree/main/benchmarking) page for instructions on how to obtain and pre-process the Farrell data."
   ]
  },
  {
   "cell_type": "code",
   "execution_count": null,
   "metadata": {},
   "outputs": [],
   "source": [
    "dataset = 'Samusik'\n",
    "\n",
    "ff       = fs.io.read_FCS(os.path.join('..', 'cytometry_data', f'{dataset}.fcs'))\n",
    "col_idcs = np.arange(8, 47) # column indices of markers of interest\n",
    "ff       = ff[:,col_idcs]\n",
    "cofactor = 5.\n",
    "for channel in range(ff.shape[1]):\n",
    "    ff[:,channel].X = np.arcsinh(ff[:,channel].X/cofactor)\n",
    "exprs   = np.asarray(ff.X) # extracted expression data\n",
    "\n",
    "labels   = np.load(os.path.join('..', 'cytometry_data', f'{dataset}_annot.npy'), allow_pickle=True)\n",
    "\n",
    "knn     = ViVAE.make_knn(x=exprs, fname=os.path.join('..', 'cytometry_data', f'{dataset}_knn.npy')) # already exists, load\n",
    "exprs_d = ViVAE.smooth(exprs, knn, k=100, coef=1., n_iter=1)"
   ]
  },
  {
   "cell_type": "markdown",
   "metadata": {},
   "source": [
    "## **2.** Generate embedding"
   ]
  },
  {
   "cell_type": "code",
   "execution_count": null,
   "metadata": {},
   "outputs": [],
   "source": [
    "torch.manual_seed(42)\n",
    "\n",
    "model_vivae = ViVAE.ViVAE(input_dim=exprs.shape[1], latent_dim=2, random_state=42)\n",
    "model_vivae.fit(exprs_d, n_epochs=50, batch_size=1024, lam_recon=1., lam_kldiv=1., lam_mds=10.)\n",
    "\n",
    "emb_vivae = model_vivae.transform(exprs_d)"
   ]
  },
  {
   "cell_type": "markdown",
   "metadata": {},
   "source": [
    "## **3.** Train FlowSOM model"
   ]
  },
  {
   "cell_type": "code",
   "execution_count": null,
   "metadata": {},
   "outputs": [],
   "source": [
    "fsom = fs.FlowSOM(ff, n_clusters=40, xdim=10, ydim=10, seed=42)"
   ]
  },
  {
   "cell_type": "markdown",
   "metadata": {},
   "source": [
    "## **4.** Plot embedding without and with FlowSOM tree overlay"
   ]
  },
  {
   "cell_type": "code",
   "execution_count": null,
   "metadata": {},
   "outputs": [],
   "source": [
    "palette = ['#726ca6','#8ff56b','#79d0f9','#fba56a','#eefc85','#aeaead','#6e85ff','#b97671','#dbbafd','#6bb277','#b7fbce','#6af1b0','#b26ae7','#fb6c98','#fdc4b8','#c1c86c','#699dc0','#d889c1','#a89ef4','#95d598','#757469','#78fefe','#f1f7c3','#b2ddfb','#cad9a3','#9b9f69','#aa7caa','#74c7c0','#face7e','#fe9cdb','#ce9f81','#bafc85','#fdd5f1','#e97f6c','#8d89d7','#839095','#d68ef9','#a5d1ca','#d1fcfe','#6eaaee','#f799a1','#d7b2c8','#70d87a','#99faa9','#6b70d4','#dbd8d2','#fb77c9','#88f4d2','#d17a98','#90b2d3','#aafef7','#debc9d','#d2e96a','#96c96a','#8c6ff5','#927286','#7cff8e','#80b19e','#adbcfa','#d86fdd','#aee276','#eee1a5','#feb6fe','#996dc9','#b699cc','#ad908d','#76946b','#d2fea8','#a7b883','#b881fe','#69e7da','#92e8f5','#b5b6d4','#dadcfa','#bf6cbe','#9199b6','#70d79f','#6afd6e','#dcb26c','#d69fae','#b5eab1','#fce96a','#6987aa','#8dadfc','#938afd','#c7ebe4','#de6a7f','#938669','#c4cce8','#e36daf','#e8f1e8','#86e1b6','#ff6b69','#ed9ffc','#87d7d6','#feb58d','#b96a93','#dcd189','#adc9a7']\n",
    "mpl.rcParams['axes.linewidth'] = 0.1\n",
    "pops = np.unique(labels)\n",
    "fig, ax = plt.subplots(nrows=1, ncols=2, figsize=(6, 3), dpi=150, sharey=True)\n",
    "fig.subplots_adjust(wspace=.1)\n",
    "s = .01\n",
    "idcs_unass = np.where(labels=='unassigned')[0]\n",
    "\n",
    "ax[0].scatter(emb_vivae[idcs_unass,0], emb_vivae[idcs_unass,1], s=s, label='unassigned', c='grey', alpha=1., linewidth=.5)\n",
    "\n",
    "for i, pop in enumerate(pops):\n",
    "    if pop!='unassigned':\n",
    "        idcs = np.where(labels==pop)[0]\n",
    "        ax[0].scatter(emb_vivae[idcs,0], emb_vivae[idcs,1], s=s, label=pop, c=palette[i], alpha=1., linewidth=.5)\n",
    "ax[0].tick_params(axis='both', labelsize=5)\n",
    "ax[0].axis('equal')\n",
    "ax[0].set_title('', size=7, ha='left', x=-.03, y=.98)\n",
    "l = fig.legend(bbox_to_anchor=(1.13, .92), fontsize=5, markerscale=50.)\n",
    "\n",
    "fsom_node_scale = 0.004\n",
    "fsom_edge_scale = 0.5\n",
    "\n",
    "ax[1].scatter(emb_vivae[idcs_unass,0], emb_vivae[idcs_unass,1], s=s, label='unassigned', c='grey', alpha=.5, linewidth=.5)\n",
    "\n",
    "## Determine FlowSOM tree node sizes\n",
    "\n",
    "cluster_sizes = fsom.get_cluster_data().obs['percentages']\n",
    "cluster_empty = cluster_sizes==0.\n",
    "ranges = np.ptp(emb_vivae, axis=0)\n",
    "maxsize = np.min(ranges)*fsom_node_scale\n",
    "node_sizes = np.sqrt(np.multiply((np.divide(cluster_sizes, np.max(cluster_sizes))), maxsize))\n",
    "node_sizes[cluster_empty] = min([0.05, node_sizes.max()])\n",
    "## Get embedding of cluster centroids\n",
    "centroids = fsom.get_cluster_data().obsm['codes']\n",
    "layout = model_vivae.transform(centroids)\n",
    "edge_list = fsom.get_cluster_data().uns['graph'].get_edgelist()\n",
    "segment_plot = [\n",
    "    (layout[nodeID[0], 0],\n",
    "        layout[nodeID[0], 1],\n",
    "        layout[nodeID[1], 0],\n",
    "        layout[nodeID[1], 1])\n",
    "        for nodeID in edge_list\n",
    "]\n",
    "edges = np.asarray(segment_plot, dtype=np.float32)\n",
    "e = [[(row[0], row[1]), (row[2], row[3])] for row in edges]\n",
    "mst = mc.LineCollection(e)\n",
    "mst.set_edgecolor('black')\n",
    "mst.set_linewidth(fsom_edge_scale)\n",
    "#mst.set_zorder(0)\n",
    "ax[1].add_collection(mst)\n",
    "\n",
    "# Add FlowSOM tree nodes\n",
    "nodes = [Circle((row[0], row[1]), node_sizes.iloc[i]) for i, row in enumerate(layout)]\n",
    "\n",
    "n = mc.PatchCollection(nodes)\n",
    "n.set_facecolor(['#C7C7C7' if tf else '#FFFFFF' for tf in cluster_empty])\n",
    "n.set_edgecolor('black')\n",
    "n.set_linewidth(fsom_edge_scale/1.5)\n",
    "n.set_zorder(3)\n",
    "ax[1].add_collection(n)\n",
    "\n",
    "## Set up colour palette for nodes\n",
    "pops = np.unique(labels)\n",
    "color_dict = dict(zip(pops, palette))\n",
    "color_dict['unassigned'] = '#bfbfbf'\n",
    "## Plot pie per node for labelled cell populations\n",
    "for cl in range(fsom.get_cell_data().uns['n_nodes']):\n",
    "    node_cell_types = labels[fsom.get_cell_data().obs['clustering'] == cl]\n",
    "    node_cell_types = node_cell_types[[x not in ['unassigned'] for x in node_cell_types]]\n",
    "    if len(node_cell_types) != 0:\n",
    "        table = pd.crosstab(node_cell_types, columns='count')\n",
    "        table['part'] = np.multiply(np.divide(table['count'], sum(table['count'])), 360)\n",
    "        angles = np.asarray(np.cumsum(table['part']))\n",
    "        if 0 not in angles:\n",
    "            angles = np.insert(angles, 0, 0)\n",
    "        row = layout[cl, :]\n",
    "        patches = fs.pl._plot_helper_functions.add_wedges(\n",
    "            tuple(row), heights=np.repeat(node_sizes.iloc[cl], len(angles)), angles=angles\n",
    "        )\n",
    "        p = mc.PatchCollection(patches)\n",
    "        p.set_facecolor([color_dict.get(key) for key in table.index.values])\n",
    "        p.set_edgecolor('black')\n",
    "        p.set_linewidth(fsom_edge_scale/4.)\n",
    "        p.set_zorder(3)\n",
    "        ax[1].add_collection(p)\n",
    "\n",
    "for i, pop in enumerate(pops):\n",
    "    if pop!='unassigned':\n",
    "        idcs = np.where(labels==pop)[0]\n",
    "        ax[1].scatter(emb_vivae[idcs,0], emb_vivae[idcs,1], s=s, label=pop, c=palette[i], alpha=.5, linewidth=.5)\n",
    "ax[1].tick_params(axis='both', labelsize=5)\n",
    "ax[1].axis('equal')\n",
    "ax[1].set_title('', size=7, ha='left', x=-.03, y=.98)\n",
    "\n",
    "fig.savefig('samusik_A_populations.png', bbox_inches='tight', dpi=300, transparent=True)\n",
    "fig.savefig('samusik_A_populations.svg', bbox_inches='tight', transparent=True)"
   ]
  }
 ],
 "metadata": {
  "kernelspec": {
   "display_name": "ViVAE",
   "language": "python",
   "name": "python3"
  },
  "language_info": {
   "codemirror_mode": {
    "name": "ipython",
    "version": 3
   },
   "file_extension": ".py",
   "mimetype": "text/x-python",
   "name": "python",
   "nbconvert_exporter": "python",
   "pygments_lexer": "ipython3",
   "version": "3.11.9"
  }
 },
 "nbformat": 4,
 "nbformat_minor": 2
}
