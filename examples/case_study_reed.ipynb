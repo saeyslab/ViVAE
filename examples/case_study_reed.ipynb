{
 "cells": [
  {
   "cell_type": "markdown",
   "metadata": {},
   "source": [
    "# Case study: Reed breast T cell data\n",
    "\n",
    "This notebook generates results for a case study that uses a [Human Breast Cell Atlas dataset](https://cellxgene.cziscience.com/collections/48259aa8-f168-4bf5-b797-af8e88da6637) (T cell subset).\n",
    "\n",
    "This is an example where we use the Extended Neighbourhood-Proportion-Error (xNPE) to compare embedding distortion of different cell populations, as well as neighbourhood composition plots to reveal sources of distortion."
   ]
  },
  {
   "cell_type": "markdown",
   "metadata": {},
   "source": [
    "<hr>\n",
    "\n",
    "## **0.** Load required modules\n",
    "\n",
    "In addition to `ViVAE`, `ViScore` and their dependenceis, you will need to have `umap` installed in your conda environment."
   ]
  },
  {
   "cell_type": "code",
   "execution_count": null,
   "metadata": {},
   "outputs": [],
   "source": [
    "import warnings\n",
    "warnings.filterwarnings('ignore')\n",
    "import os\n",
    "import copy\n",
    "import numpy as np\n",
    "import pandas as pd\n",
    "import matplotlib as mpl\n",
    "import matplotlib.pyplot as plt\n",
    "import ViVAE\n",
    "import ViScore\n",
    "from sklearn.manifold import TSNE\n",
    "from umap import UMAP"
   ]
  },
  {
   "cell_type": "markdown",
   "metadata": {},
   "source": [
    "## **1.** Load input data\n",
    "\n",
    "See the ViScore [benchmarking](https://github.com/saeyslab/ViScore/tree/main/benchmarking) page for instructions on how to obtain and pre-process the Reed data."
   ]
  },
  {
   "cell_type": "code",
   "execution_count": null,
   "metadata": {},
   "outputs": [],
   "source": [
    "## Load input data\n",
    "\n",
    "dataset = 'Reed'\n",
    "\n",
    "pc    = np.load(os.path.join('..', 'data', f'{dataset}_input.npy'),          allow_pickle=True)\n",
    "pc_d  = np.load(os.path.join('..', 'data', f'{dataset}_input_denoised.npy'), allow_pickle=True)\n",
    "labs  = np.load(os.path.join('..', 'data', f'{dataset}_labels.npy'),         allow_pickle=True)\n",
    "unass = np.load(os.path.join('..', 'data', f'{dataset}_unassigned.npy'),     allow_pickle=True).item()"
   ]
  },
  {
   "cell_type": "markdown",
   "metadata": {},
   "source": [
    "We will also generate (or load) a *k*-nearest-neighbour graph for 1000 neighbours, to use for the xNPE computation."
   ]
  },
  {
   "cell_type": "code",
   "execution_count": null,
   "metadata": {},
   "outputs": [],
   "source": [
    "knn1000 = ViScore.make_knn(pc, fname=os.path.join('..', 'data', f'{dataset}_knn1000.npy'), k=1000, random_state=42)"
   ]
  },
  {
   "cell_type": "markdown",
   "metadata": {},
   "source": [
    "## **2.** Generating embeddings\n",
    "\n",
    "We use *t*-SNE, UMAP and ViVAE to generate embeddings of this dataset.\n",
    "To prevent any non-coverged results, we set the iteration/epoch count for each method higher than default here..."
   ]
  },
  {
   "cell_type": "code",
   "execution_count": null,
   "metadata": {},
   "outputs": [],
   "source": [
    "model_tsne = TSNE(n_components=2, n_iter=2000, random_state=42)\n",
    "emb_tsne = model_tsne.fit_transform(pc)\n",
    "\n",
    "model_umap = UMAP(n_components=2, n_epochs=1000, random_state=42)\n",
    "emb_umap = model_umap.fit_transform(pc)\n",
    "\n",
    "model_vivae = ViVAE.ViVAE(input_dim=pc.shape[1], latent_dim=2, random_state=42)\n",
    "model_vivae.fit(pc_d, batch_size=1024, n_epochs=100)\n",
    "emb_vivae = model_vivae.transform(pc_d)"
   ]
  },
  {
   "cell_type": "markdown",
   "metadata": {},
   "source": [
    "## **3.** Compute population-level xNPE scores"
   ]
  },
  {
   "cell_type": "code",
   "execution_count": null,
   "metadata": {},
   "outputs": [],
   "source": [
    "xnpe_tsne = ViScore.xnpe(hd=pc, ld=emb_tsne, annot=labs, knn=knn1000, random_state=42)\n",
    "xnpe_umap = ViScore.xnpe(hd=pc, ld=emb_umap, annot=labs, knn=knn1000, random_state=42)\n",
    "xnpe_vivae = ViScore.xnpe(hd=pc, ld=emb_vivae, annot=labs, knn=knn1000, random_state=42)"
   ]
  },
  {
   "cell_type": "code",
   "execution_count": null,
   "metadata": {},
   "outputs": [],
   "source": [
    "palette = ['#726ca6',\n",
    " '#8ff56b',\n",
    " '#79d0f9',\n",
    " '#fba56a',\n",
    " '#eefc85',\n",
    " '#aeaead',\n",
    " '#6e85ff',\n",
    " '#b97671',\n",
    " '#dbbafd',\n",
    " '#6bb277',\n",
    " '#b7fbce',\n",
    " '#6af1b0',\n",
    " '#b26ae7',\n",
    " '#fb6c98',\n",
    " '#fdc4b8',\n",
    " '#c1c86c',\n",
    " '#699dc0',\n",
    " '#d889c1',\n",
    " '#a89ef4',\n",
    " '#95d598',\n",
    " '#757469',\n",
    " '#78fefe',\n",
    " '#f1f7c3',\n",
    " '#b2ddfb',\n",
    " '#cad9a3',\n",
    " '#9b9f69',\n",
    " '#aa7caa',\n",
    " '#74c7c0',\n",
    " '#face7e',\n",
    " '#fe9cdb',\n",
    " '#ce9f81',\n",
    " '#bafc85',\n",
    " '#fdd5f1',\n",
    " '#e97f6c',\n",
    " '#8d89d7',\n",
    " '#839095',\n",
    " '#d68ef9',\n",
    " '#a5d1ca',\n",
    " '#d1fcfe',\n",
    " '#6eaaee',\n",
    " '#f799a1',\n",
    " '#d7b2c8',\n",
    " '#70d87a',\n",
    " '#99faa9',\n",
    " '#6b70d4',\n",
    " '#dbd8d2',\n",
    " '#fb77c9',\n",
    " '#88f4d2',\n",
    " '#d17a98',\n",
    " '#90b2d3',\n",
    " '#aafef7',\n",
    " '#debc9d',\n",
    " '#d2e96a',\n",
    " '#96c96a',\n",
    " '#8c6ff5',\n",
    " '#927286',\n",
    " '#7cff8e',\n",
    " '#80b19e',\n",
    " '#adbcfa',\n",
    " '#d86fdd',\n",
    " '#aee276',\n",
    " '#eee1a5',\n",
    " '#feb6fe',\n",
    " '#996dc9',\n",
    " '#b699cc',\n",
    " '#ad908d',\n",
    " '#76946b',\n",
    " '#d2fea8',\n",
    " '#a7b883',\n",
    " '#b881fe',\n",
    " '#69e7da',\n",
    " '#92e8f5',\n",
    " '#b5b6d4',\n",
    " '#dadcfa',\n",
    " '#bf6cbe',\n",
    " '#9199b6',\n",
    " '#70d79f',\n",
    " '#6afd6e',\n",
    " '#dcb26c',\n",
    " '#d69fae',\n",
    " '#b5eab1',\n",
    " '#fce96a',\n",
    " '#6987aa',\n",
    " '#8dadfc',\n",
    " '#938afd',\n",
    " '#c7ebe4',\n",
    " '#de6a7f',\n",
    " '#938669',\n",
    " '#c4cce8',\n",
    " '#e36daf',\n",
    " '#e8f1e8',\n",
    " '#86e1b6',\n",
    " '#ff6b69',\n",
    " '#ed9ffc',\n",
    " '#87d7d6',\n",
    " '#feb58d',\n",
    " '#b96a93',\n",
    " '#dcd189',\n",
    " '#adc9a7']"
   ]
  },
  {
   "cell_type": "code",
   "execution_count": null,
   "metadata": {},
   "outputs": [],
   "source": [
    "mpl.rcParams['axes.linewidth'] = 0.1\n",
    "pops = list(xnpe_tsne.keys())\n",
    "methods = ['t-SNE', 'UMAP', 'ViVAE']\n",
    "nmet = len(methods)\n",
    "fig, ax = plt.subplots(nrows=1, ncols=3, figsize=(5, 1.5), dpi=150)\n",
    "fig.subplots_adjust(wspace=.3)\n",
    "handles = []\n",
    "labels = []\n",
    "embs = [emb_tsne, emb_umap, emb_vivae]\n",
    "s = .01\n",
    "for i, method in enumerate(methods):\n",
    "        idcs0 = np.where(labs==unass)[0]\n",
    "        idcs1 = np.delete(np.arange(len(labs)), idcs0)\n",
    "        emb = embs[i]\n",
    "        ax[i].scatter(emb[idcs0,0], emb[idcs0,1], s=s, c='#bfbfbf', alpha=1., linewidths=0)\n",
    "        idx_pop = 0\n",
    "        l = np.delete(labs, idcs0)\n",
    "        for pop in np.unique(l):\n",
    "            idcs = np.where(l == pop)[0]\n",
    "            if i==(len(methods)-1):\n",
    "                ax[i].scatter(emb[idcs1[idcs],0], emb[idcs1[idcs],1], label=pop, s=s, c=palette[idx_pop], alpha=1., linewidth=.5)\n",
    "            else:\n",
    "                ax[i].scatter(emb[idcs1[idcs],0], emb[idcs1[idcs],1], s=s, c=palette[idx_pop], alpha=1., linewidth=.5)\n",
    "            ax[i].tick_params(axis='both', labelsize=5)\n",
    "            idx_pop += 1\n",
    "        ax[i].axis('equal')\n",
    "        ax[i].set_title(methods[i], size=7, ha='left', x=-.03, y=.98)\n",
    "        if i==(len(methods)-1):\n",
    "            l = fig.legend(bbox_to_anchor=(1.35, .92), fontsize=5, markerscale=50.)\n",
    "fig.savefig('Reed_A_embeddings.png', bbox_inches='tight', dpi=300, transparent=True)\n",
    "fig.savefig('Reed_A_embeddings.svg', bbox_inches='tight', transparent=True)"
   ]
  },
  {
   "cell_type": "markdown",
   "metadata": {},
   "source": [
    "## **4.** Create neighbourhood composition plots\n",
    "\n",
    "Next, we set a population of interest (`poi`: `'mature NK T cell`), highlight it in the embeddings and generate neighbourhood composition plots that show sources of the error for this POI."
   ]
  },
  {
   "cell_type": "code",
   "execution_count": null,
   "metadata": {},
   "outputs": [],
   "source": [
    "poi = 'mature NK T cell'"
   ]
  },
  {
   "cell_type": "code",
   "execution_count": null,
   "metadata": {},
   "outputs": [],
   "source": [
    "mpl.rcParams['axes.linewidth'] = 0.1\n",
    "pops = list(xnpe_tsne.keys())\n",
    "methods = ['t-SNE', 'UMAP', 'ViVAE']\n",
    "nmet = len(methods)\n",
    "fig, ax = plt.subplots(nrows=1, ncols=3, figsize=(5, 1.5), dpi=150)\n",
    "fig.subplots_adjust(wspace=.3)\n",
    "handles = []\n",
    "labels = []\n",
    "embs = [emb_tsne, emb_umap, emb_vivae]\n",
    "s = .01\n",
    "\n",
    "idcs_nk = np.where(labs==poi)[0]\n",
    "for i, method in enumerate(methods):\n",
    "\n",
    "        emb = embs[i]\n",
    "        ax[i].scatter(emb[:,0], emb[:,1], s=s, c='grey', alpha=1., linewidth=.5)\n",
    "        ax[i].scatter(emb[idcs_nk,0], emb[idcs_nk,1], s=3, c=palette[idx_pop], alpha=1., linewidth=.5)\n",
    "\n",
    "        ax[i].axis('equal')\n",
    "        ax[i].set_title(methods[i], size=7, ha='left', x=-.03, y=.98)\n",
    "        ax[i].tick_params(axis='both', labelsize=5)\n",
    "fig.savefig('reed_B_embeddings_poi.png', bbox_inches='tight', dpi=300, transparent=True)\n",
    "fig.savefig('reed_B_embeddings_poi.svg', bbox_inches='tight', transparent=True)"
   ]
  },
  {
   "cell_type": "code",
   "execution_count": null,
   "metadata": {},
   "outputs": [],
   "source": [
    "pops = list(xnpe_tsne.keys())\n",
    "methods = ['t-SNE', 'UMAP', 'ViVAE']\n",
    "nmet = len(methods)\n",
    "d = pd.DataFrame(\n",
    "    data=np.vstack([list(xnpe_tsne.values()), list(xnpe_umap.values()), list(xnpe_vivae.values())]),\n",
    "    columns=pops\n",
    ")\n",
    "d.index = methods\n",
    "d = d.drop(unass, axis=1)\n",
    "pops = list(d.keys())\n",
    "npop = len(pops)\n",
    "d"
   ]
  },
  {
   "cell_type": "code",
   "execution_count": null,
   "metadata": {},
   "outputs": [],
   "source": [
    "fig, ax = plt.subplots(figsize=(2,4), dpi=150)\n",
    "mpl.rcParams['axes.linewidth'] = 0.1\n",
    "pal = ['orange', 'teal', 'darkred']\n",
    "n = npop*(nmet+1)\n",
    "\n",
    "for i, method in enumerate(methods):\n",
    "    for j, pop in enumerate(pops):\n",
    "        if j==0:\n",
    "            ax.barh(y=j*(nmet+1)+i, width=d[pop][method], color=pal[i], label=method)\n",
    "        else:\n",
    "            ax.barh(y=j*(nmet+1)+i, width=d[pop][method], color=pal[i])\n",
    "ax.set_xlim((0., 1.2))\n",
    "ax.set_ylim((-1, n))\n",
    "pop_labels = copy.deepcopy(pops)\n",
    "ax.set_yticks(ticks=np.arange(npop)*(nmet+1)+1, labels=pop_labels)\n",
    "ax.tick_params(axis='both', labelsize=6)\n",
    "plt.gca().invert_yaxis()\n",
    "\n",
    "fig.legend(bbox_to_anchor=(.88, .845), fontsize=6)\n",
    "fig.savefig('reed_C_barplot.png', bbox_inches='tight', dpi=300, transparent=True)\n",
    "fig.savefig('reed_C_barplot.svg', bbox_inches='tight', transparent=True)"
   ]
  },
  {
   "cell_type": "code",
   "execution_count": null,
   "metadata": {},
   "outputs": [],
   "source": [
    "pop = poi\n",
    "nc_hd = ViScore.neighbourhood_composition(X=pc, pop=pop, annot=labs, k=1000, stepsize=10, random_state=42)\n",
    "nc_tsne = ViScore.neighbourhood_composition(X=emb_tsne, pop=pop, annot=labs, k=1000, stepsize=10, random_state=42)\n",
    "nc_umap = ViScore.neighbourhood_composition(X=emb_umap, pop=pop, annot=labs, k=1000, stepsize=10, random_state=42)\n",
    "nc_vivae = ViScore.neighbourhood_composition(X=emb_vivae, pop=pop, annot=labs, k=1000, stepsize=10, random_state=42)"
   ]
  },
  {
   "cell_type": "code",
   "execution_count": null,
   "metadata": {},
   "outputs": [],
   "source": [
    "fig, ax = plt.subplots(ncols=1, nrows=4, figsize=(3, 5), dpi=150, sharey=True, sharex=True)\n",
    "mpl.rcParams['axes.linewidth'] = 0.1\n",
    "fig.subplots_adjust(hspace=.35)\n",
    "\n",
    "for i, nc in enumerate([nc_hd, nc_tsne, nc_umap, nc_vivae]):\n",
    "    y = np.vstack(nc[3])\n",
    "    ax[i].stackplot(nc[4], y.T, labels=nc[1], colors=palette[1:])\n",
    "    ax[i].set_ylim((0.,1.))\n",
    "    ax[i].set_xlim((min(nc[4]), max(nc[4])))\n",
    "    ax[i].set_title(['HD data', 't-SNE', 'UMAP', 'ViVAE'][i], size=7, ha='left', x=.0, y=.96)\n",
    "    ax[i].tick_params(axis='both', labelsize=5)\n",
    "\n",
    "ax[3].set_ylabel('Neighbour proportion', loc='bottom', size=7)\n",
    "ax[3].set_xlabel('Neighbourhood rank', loc='left', size=7)\n",
    "\n",
    "fig.savefig('reed_D_ncp.png', bbox_inches='tight', dpi=300, transparent=True)\n",
    "fig.savefig('reed_D_npc.svg', bbox_inches='tight', transparent=True)"
   ]
  }
 ],
 "metadata": {
  "kernelspec": {
   "display_name": "ViVAE",
   "language": "python",
   "name": "python3"
  },
  "language_info": {
   "codemirror_mode": {
    "name": "ipython",
    "version": 3
   },
   "file_extension": ".py",
   "mimetype": "text/x-python",
   "name": "python",
   "nbconvert_exporter": "python",
   "pygments_lexer": "ipython3",
   "version": "3.11.9"
  }
 },
 "nbformat": 4,
 "nbformat_minor": 2
}
