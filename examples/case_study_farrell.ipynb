{
 "cells": [
  {
   "cell_type": "markdown",
   "metadata": {},
   "source": [
    "# Case study: Farrell zebrafish embryo data\n",
    "\n",
    "This notebook generates results for a case study that uses a [zebrafish embryo Drop-Seq dataset](https://singlecell.broadinstitute.org/single_cell/study/SCP162/single-cell-reconstruction-of-developmental-trajectories-during-zebrafish-embryogenesis).\n",
    "\n",
    "We compare the embedding using a standard variational autoencoder (VAE), default ViVAE and a ViVAE encoder-only (parametric MDS-like) model.\n",
    "To this end, we will plot encoder indicatrices for each model."
   ]
  },
  {
   "cell_type": "markdown",
   "metadata": {},
   "source": [
    "<hr>\n",
    "\n",
    "## **0.** Load required modules\n",
    "\n",
    "In addition to `ViVAE`, `ViScore` and their dependenceis, you will need to have `umap` and `SQuadMDS` installed in your conda environment."
   ]
  },
  {
   "cell_type": "code",
   "execution_count": null,
   "metadata": {},
   "outputs": [],
   "source": [
    "import warnings\n",
    "warnings.filterwarnings('ignore')\n",
    "import os\n",
    "import copy\n",
    "import numpy as np\n",
    "import pandas as pd\n",
    "import matplotlib as mpl\n",
    "import matplotlib.pyplot as plt\n",
    "import matplotlib.colors\n",
    "import ViVAE\n",
    "import ViScore\n",
    "from sklearn.manifold import TSNE\n",
    "import torch\n",
    "from umap import UMAP\n",
    "from SQuadMDS import SQuadMDS\n",
    "from sklearn.manifold import TSNE\n",
    "from matplotlib.patches import Rectangle"
   ]
  },
  {
   "cell_type": "markdown",
   "metadata": {},
   "source": [
    "## **1.** Load input data\n",
    "\n",
    "See the ViScore [benchmarking](https://github.com/saeyslab/ViScore/tree/main/benchmarking) page for instructions on how to obtain and pre-process the Farrell data."
   ]
  },
  {
   "cell_type": "code",
   "execution_count": null,
   "metadata": {},
   "outputs": [],
   "source": [
    "## Load input data\n",
    "\n",
    "dataset = 'Farrell'\n",
    "\n",
    "pc   = np.load(os.path.join('..', 'data', f'{dataset}_input.npy'),          allow_pickle=True)\n",
    "pc_d = np.load(os.path.join('..', 'data', f'{dataset}_input_denoised.npy'), allow_pickle=True)\n",
    "labs = np.load(os.path.join('..', 'data', f'{dataset}_labels.npy'),         allow_pickle=True)\n",
    "\n",
    "meta = pd.read_csv('../data/Farrell_meta.txt', sep='\\t')       # this is the `URD_Dropseq_Meta.txt` file from Single Cell Portal"
   ]
  },
  {
   "cell_type": "markdown",
   "metadata": {},
   "source": [
    "## **2.** Generate embeddings"
   ]
  },
  {
   "cell_type": "code",
   "execution_count": null,
   "metadata": {},
   "outputs": [],
   "source": [
    "emb_tsne     = TSNE(n_components=2).fit_transform(pc)\n",
    "emb_umap     = UMAP(n_components=2).fit_transform(pc)\n",
    "emb_squadmds = SQuadMDS(n_components=2).fit_transform(pc)\n",
    "\n",
    "torch.manual_seed(42)\n",
    "\n",
    "model_vae = ViVAE.ViVAE(input_dim=pc.shape[1], latent_dim=2, random_state=42)\n",
    "model_vae.fit(pc, n_epochs=50, batch_size=1024, lam_recon=1., lam_kldiv=1., lam_mds=0.)\n",
    "\n",
    "model_vivae_enconly = ViVAE.ViVAE(input_dim=pc.shape[1], latent_dim=2, random_state=42)\n",
    "model_vivae_enconly.fit(pc_d, n_epochs=50, batch_size=1024, lam_recon=0., lam_kldiv=1., lam_mds=10.)\n",
    "\n",
    "model_vivae = ViVAE.ViVAE(input_dim=pc.shape[1], latent_dim=2, random_state=42)\n",
    "model_vivae.fit(pc_d, n_epochs=50, batch_size=1024, lam_recon=1., lam_kldiv=1., lam_mds=10.)\n",
    "\n",
    "emb_vae = model_vae.transform(pc)\n",
    "emb_vivae_enconly = model_vivae_enconly.transform(pc_d)\n",
    "emb_vivae = model_vivae.transform(pc_d)"
   ]
  },
  {
   "cell_type": "markdown",
   "metadata": {},
   "source": [
    "## **3.** Plot embeddings with cells labelled by developmental stages"
   ]
  },
  {
   "cell_type": "code",
   "execution_count": null,
   "metadata": {},
   "outputs": [],
   "source": [
    "palette = ['#726ca6','#8ff56b','#79d0f9','#fba56a','#eefc85','#aeaead','#6e85ff','#b97671','#dbbafd','#6bb277',\n",
    "           '#b7fbce','#6af1b0','#b26ae7','#fb6c98','#fdc4b8','#c1c86c','#699dc0','#d889c1','#a89ef4','#95d598',\n",
    "           '#757469','#78fefe','#f1f7c3','#b2ddfb','#cad9a3','#9b9f69','#aa7caa','#74c7c0','#face7e','#fe9cdb',\n",
    "           '#ce9f81','#bafc85','#fdd5f1','#e97f6c','#8d89d7','#839095','#d68ef9','#a5d1ca','#d1fcfe','#6eaaee',\n",
    "           '#f799a1','#d7b2c8','#70d87a','#99faa9','#6b70d4','#dbd8d2','#fb77c9','#88f4d2','#d17a98','#90b2d3',\n",
    "           '#aafef7','#debc9d','#d2e96a','#96c96a','#8c6ff5','#927286','#7cff8e','#80b19e','#adbcfa','#d86fdd',\n",
    "           '#aee276','#eee1a5','#feb6fe','#996dc9','#b699cc','#ad908d','#76946b','#d2fea8','#a7b883','#b881fe',\n",
    "           '#69e7da','#92e8f5','#b5b6d4','#dadcfa','#bf6cbe','#9199b6','#70d79f','#6afd6e','#dcb26c','#d69fae',\n",
    "           '#b5eab1','#fce96a','#6987aa','#8dadfc','#938afd','#c7ebe4','#de6a7f','#938669','#c4cce8','#e36daf',\n",
    "           '#e8f1e8','#86e1b6','#ff6b69','#ed9ffc','#87d7d6','#feb58d','#b96a93','#dcd189','#adc9a7']\n",
    "mpl.rcParams['axes.linewidth'] = 0.1\n",
    "pops = np.unique(labs)\n",
    "methods = ['tSNE', 'UMAP', 'SQuad-MDS', 'VAE', 'ViVAE', 'ViVAE-EncoderOnly']\n",
    "nmet = len(methods)\n",
    "fig, ax = plt.subplots(nrows=1, ncols=nmet, figsize=(1.5*nmet, 1.5), dpi=150)\n",
    "fig.subplots_adjust(wspace=.3)\n",
    "handles = []\n",
    "labels = []\n",
    "embs = [emb_tsne, emb_umap, emb_squadmds, emb_vae, emb_vivae, emb_vivae_enconly]\n",
    "s = .01\n",
    "for i, method in enumerate(methods):\n",
    "    emb = embs[i]\n",
    "    for j, pop in enumerate(pops):\n",
    "        idcs = np.where(labs==pop)[0]\n",
    "        if i==0:\n",
    "            ax[i].scatter(emb[idcs,0], emb[idcs,1], s=s, label=pop, c=palette[j], alpha=1., linewidth=.5)\n",
    "        else:\n",
    "            ax[i].scatter(emb[idcs,0], emb[idcs,1], s=s, c=palette[j], alpha=1., linewidth=.5)\n",
    "    ax[i].tick_params(axis='both', labelsize=5)\n",
    "    ax[i].axis('equal')\n",
    "    ax[i].set_title(methods[i], size=7, ha='left', x=-.03, y=.98)\n",
    "    if i==(len(methods)-1):\n",
    "        l = fig.legend(bbox_to_anchor=(1., .92), fontsize=5, markerscale=50.)\n",
    "fig.savefig('Farrell_A_stages.png', bbox_inches='tight', dpi=600, transparent=True)\n",
    "fig.savefig('Farrell_A_stages.svg', bbox_inches='tight', transparent=True)"
   ]
  },
  {
   "cell_type": "markdown",
   "metadata": {},
   "source": [
    "## **4.** Plot embeddings with highlighted cells in selected lineages"
   ]
  },
  {
   "cell_type": "code",
   "execution_count": null,
   "metadata": {},
   "outputs": [],
   "source": [
    "cols = ['Prechordal_Plate', 'Notochord', 'Telencephalon', 'Adaxial_Cells', 'EVL']\n",
    "\n",
    "methods = ['tSNE', 'UMAP', 'SQuad-MDS', 'VAE', 'ViVAE', 'ViVAE-EncoderOnly']\n",
    "nmet = len(methods)\n",
    "ncol = len(cols)\n",
    "fig, ax = plt.subplots(nrows=ncol, ncols=nmet, figsize=(.8*nmet, .8*ncol), dpi=150)\n",
    "fig.subplots_adjust(wspace=.0, hspace=.05)\n",
    "embs = [emb_tsne, emb_umap, emb_squadmds, emb_vae, emb_vivae, emb_vivae_enconly]\n",
    "mpl.rcParams['axes.linewidth'] = 0.1\n",
    "for i, col in enumerate(cols):\n",
    "    idcs = np.where([x in ['True', 'TRUE'] for x in meta[f'Lineage_{col}'][1:]])[0]\n",
    "    nmet = len(methods)\n",
    "    fig.subplots_adjust(wspace=.3)\n",
    "    handles = []\n",
    "    labels = []\n",
    "    s = .01\n",
    "    for j, method in enumerate(methods):\n",
    "        emb = embs[j]\n",
    "        ax[i][j].scatter(emb[:,0], emb[:,1], s=s, c='grey', linewidth=.5)\n",
    "        ax[i][j].scatter(emb[idcs,0], emb[idcs,1], s=s, c='darkblue', linewidth=.5)\n",
    "        ax[i][j].tick_params(axis='both', bottom=False, left=False, labelbottom=False, labelleft=False)\n",
    "        ax[i][j].axis('equal')\n",
    "\n",
    "for a, row in zip(ax[:,0], cols):\n",
    "    a.annotate(row, xy=(0, .5), xytext=(0, 0), xycoords=a.yaxis.label, textcoords='offset points', size=6, weight='bold', ha='right', va='center')\n",
    "\n",
    "#fig.suptitle('B', x=0.03, y=.91, size=12, weight='bold')\n",
    "fig.savefig('Farrell_B_stages.png', bbox_inches='tight', dpi=600, transparent=True)\n",
    "fig.savefig('Farrell_B_stages.svg', bbox_inches='tight', transparent=True)"
   ]
  },
  {
   "cell_type": "markdown",
   "metadata": {},
   "source": [
    "## **5.** Compute and plot encoder indicatrices for VAE-based models"
   ]
  },
  {
   "cell_type": "code",
   "execution_count": null,
   "metadata": {},
   "outputs": [],
   "source": [
    "ei_vae           = model_vae.encoder_indicatrices(X=pc, radius=1e-3, n_steps=16, n_polygon=1000)\n",
    "ei_vivae         = model_vivae.encoder_indicatrices(X=pc_d, radius=1e-3, n_steps=15, n_polygon=1000)\n",
    "ei_vivae_enconly = model_vivae_enconly.encoder_indicatrices(X=pc_d, radius=1e-3, n_steps=13, n_polygon=1000)\n",
    "# try and reflect difference in scales across embeddings in the `n_steps`\n",
    "# !!! what matters is the shape distortion (ellipses) and the inconsistence in size of indicatrices--not the absolute sizes"
   ]
  },
  {
   "cell_type": "markdown",
   "metadata": {},
   "source": [
    "The following cell generates a zoomed-in part of the ViVAE embedding and computed indicatrices for it.\n",
    "This assumes that PyTorch actually manages to keep things reproducible.\n",
    "If not, you may want to adjust the coordinates."
   ]
  },
  {
   "cell_type": "code",
   "execution_count": null,
   "metadata": {},
   "outputs": [],
   "source": [
    "zoom_idcs = np.logical_and.reduce([\n",
    "    emb_vivae[:,0]>(-10),\n",
    "    emb_vivae[:,0]<(-5),\n",
    "    emb_vivae[:,1]>(0),\n",
    "    emb_vivae[:,1]<(5),\n",
    "])\n",
    "emb_vivae_zoom = emb_vivae[zoom_idcs]\n",
    "pc_d_zoom = pc_d[zoom_idcs]\n",
    "ei_vivae_zoom = model_vivae.encoder_indicatrices(X=pc_d_zoom, radius=1e-3, n_steps=25, n_polygon=1000)"
   ]
  },
  {
   "cell_type": "code",
   "execution_count": null,
   "metadata": {},
   "outputs": [],
   "source": [
    "mpl.rcParams['axes.linewidth'] = 0.1\n",
    "pops = np.unique(labs)\n",
    "methods = ['VAE', 'ViVAE', 'ViVAE-EncoderOnly']\n",
    "nmet = len(methods)\n",
    "fig, ax = plt.subplots(nrows=4, ncols=1, figsize=(2, 8), dpi=150)\n",
    "fig.subplots_adjust(hspace=.2)\n",
    "handles = []\n",
    "labels = []\n",
    "methods = ['VAE', 'ViVAE', 'ViVAE (zoomed-in)','ViVAE-EncoderOnly']\n",
    "embs = [emb_vae, emb_vivae, emb_vivae_zoom, emb_vivae_enconly]\n",
    "eis = [ei_vae, ei_vivae, ei_vivae_zoom, ei_vivae_enconly]\n",
    "subset_idcs = [None, None, zoom_idcs, None]\n",
    "\n",
    "## Scale factors\n",
    "\n",
    "sfs = [2e3, 1e3, 8e1, 1e3]\n",
    "for i, method in enumerate(methods):\n",
    "    si = subset_idcs[i]\n",
    "    s = 2.\n",
    "    if si is None:\n",
    "        s = .01\n",
    "        si = np.arange(len(labs))\n",
    "    emb = embs[i]\n",
    "    ei = eis[i]\n",
    "    sf = sfs[i]\n",
    "    for j, pop in enumerate(pops):\n",
    "        idcs = np.where(labs[si]==pop)[0]\n",
    "        if i==0:\n",
    "            ax[i].scatter(emb[idcs,0], emb[idcs,1], s=s, label=pop, c=palette[j], alpha=1., linewidth=.5)\n",
    "        else:\n",
    "            ax[i].scatter(emb[idcs,0], emb[idcs,1], s=s, c=palette[j], alpha=1., linewidth=.5)\n",
    "\n",
    "    if method=='ViVAE':\n",
    "        rect = Rectangle(xy=(-10,0), width=5, height=5, ls='dashed', lw=1, edgecolor='black', facecolor='none', zorder=1)\n",
    "        ax[i].add_patch(rect)\n",
    "    if method=='ViVAE (zoomed-in)':\n",
    "        ax[i].margins(0.01)\n",
    "        rect = Rectangle(xy=(-10,0), width=5, height=5, ls='dashed', lw=1, edgecolor='black', facecolor='none', zorder=0)\n",
    "        ax[i].add_patch(rect)\n",
    "\n",
    "    pol = ei.get_polygons(scale_factor=sf)\n",
    "    pol.set_color([0 / 255, 0 / 255, 0 / 255, 0.3])\n",
    "    ax[i].add_collection(pol)\n",
    "\n",
    "    \n",
    "    ax[i].tick_params(axis='both', labelsize=5)\n",
    "    ax[i].axis('equal')\n",
    "    \n",
    "#fig.suptitle('C', x=0.03, y=.91, size=12, weight='bold')\n",
    "fig.savefig('Farrell_C_indicatrices_D_zoom.png', bbox_inches='tight', dpi=600, transparent=True)\n",
    "fig.savefig('Farrell_C_indicatrices_D_zoom.svg', bbox_inches='tight', transparent=True)"
   ]
  }
 ],
 "metadata": {
  "kernelspec": {
   "display_name": "ViVAE",
   "language": "python",
   "name": "python3"
  },
  "language_info": {
   "codemirror_mode": {
    "name": "ipython",
    "version": 3
   },
   "file_extension": ".py",
   "mimetype": "text/x-python",
   "name": "python",
   "nbconvert_exporter": "python",
   "pygments_lexer": "ipython3",
   "version": "3.11.9"
  }
 },
 "nbformat": 4,
 "nbformat_minor": 2
}
