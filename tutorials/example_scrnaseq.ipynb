{
 "cells": [
  {
   "cell_type": "markdown",
   "metadata": {
    "id": "9UTL6pj8OtBj"
   },
   "source": [
    "# **ViVAE analysis of scRNA-seq data**\n",
    "\n",
    "**Maintainer: [David Novak](https://davnovak.github.io/)**\n",
    "\n",
    "This is a tutorial on using *ViVAE* to analyse single-cell RNA sequencing (scRNA-seq) data.\n",
    "It covers the generation of structure-preserving embeddings and their interpretation, a comparison to *t*-SNE and *UMAP* plots and multiple forms of evaluation.\n",
    "\n",
    "If you lack the computational resources to run this analysis on your computer, you can run Jupyter notebooks like this remotely with a Google account, using [Google Colab](https://colab.research.google.com).\n",
    "Moreover, you can use [Google Drive](https://drive.google.com/) to read and write data, making it easy to test ViVAE and other algorithms, including evaluation via [ViScore](https://github.com/saeyslab/ViScore), on publicly available datasets.\n",
    "\n",
    "We recommend the [Single Cell Portal](https://singlecell.broadinstitute.org/single_cell), the [CELLxGENE](https://cellxgene.cziscience.com/) database and the [Open Problems in Single-Cell Analysis](https://openproblems.bio/datasets/) dataset repository for downloading high-quality scRNA-seq data.\n",
    "\n",
    "<details>\n",
    "<summary><b>Running ViVAE in the cloud</b></summary>\n",
    "\n",
    "You can upload this Jupyter notebook to your Google Drive and open it in Google Colab to take advantage of the freely available GPU compute.\n",
    "\n",
    "**Make sure you are using GPU for this analysis (`Runtime -> Change runtime type -> T4 GPU`).**\n",
    "\n",
    "To mount your Google Drive from Colab, you'll need to run:\n",
    "\n",
    "```\n",
    "from google.colab import drive\n",
    "drive.mount('/content/gdrive')\n",
    "```\n",
    "\n",
    "<hr>\n",
    "</details>\n",
    "\n",
    "<details>\n",
    "<summary><b>Running ViVAE locally</b></summary>\n",
    "\n",
    "To run this notebook locally with your dataset of choice, first install [ViVAE](https://github.com/saeyslab/ViVAE/), [ViScore](https://github.com/saeyslab/ViScore/) and [UMAP](https://pypi.org/project/umap-learn/) into one Anaconda environment by following their respective installation instructions.\n",
    "Next, download this notebook and make sure you can [open Jupyter notebooks](https://docs.jupyter.org/en/latest/install/notebook-classic.html) and use your Anaconda environment with them.\n",
    "\n",
    "<hr>\n",
    "</details>\n",
    "\n",
    "<details>\n",
    "<summary><b>Using ViVAE with cytometry data</b></summary>\n",
    "\n",
    "The ViVAE [repository](https://github.com/saeyslab/ViVAE) on GitHub contains a notebook called `example_cytometry.ipynb` with a workflow for dimensionality reduction of flow and mass cytometry data, as well as a sample dataset.\n",
    "\n",
    "For downloading publicly available annotated cytometry datasets, we recommend the [HDCytoData](https://www.bioconductor.org/packages/release/data/experiment/html/HDCytoData.html) R package.\n",
    "The pre-processed expression data can then be saved into a CSV file or a NumPy binary (`.npy`) using [reticulate](https://rstudio.github.io/reticulate/) in your R session.\n",
    "\n",
    "You can also install and run ViVAE from an R session using [reticulate](https://rstudio.github.io/reticulate/): we provide an [Rmarkdown vignette](https://github.com/saeyslab/ViVAE/blob/main/example_r.Rmd) showing how to do that.\n",
    "\n",
    "<hr>\n",
    "</details>\n",
    "\n",
    "<details>\n",
    "<summary><b>Reproducibility</b></summary>\n",
    "\n",
    "This notebook is provided with the outputs of all cells kept, and we describe the generated results.\n",
    "All of our annotations are relevant for the specific results that are shown.\n",
    "\n",
    "To maximise reproducibility as much as possible, we fix random seeds and use deterministic versions of algorithms where we can.\n",
    "\n",
    "Results across different runs of experiments will be identical if run with the same hardware and software and (at least) very similar otherwise.\n",
    "However, we cannot guarantee that ViVAE generates *completely* identical embeddings across different GPU devices and machines in general.\n",
    "This is due to its reliance on PyTorch, which does not make these guarantees (read more [here](https://pytorch.org/docs/stable/notes/randomness.html)).\n",
    "\n",
    "<hr>\n",
    "</details>\n",
    "\n",
    "<details>\n",
    "<summary><b>Benchmarking & hyperparameter tuning</b></summary>\n",
    "\n",
    "If you have access to a high-performance computing (HPC) cluster, you can set up a systematic benchmark of different DR methods using our [dedicated framework](https://github.com/saeyslab/ViScore/tree/main/benchmarking).\n",
    "\n",
    "In addition to comparing different algorithms, the framework can be used for hyperparameter tuning, *i.e.*, to find out what set-up is ideal for your DR method of choice.\n",
    "\n",
    "</details>\n",
    "\n",
    "<br>\n",
    "<hr>"
   ]
  },
  {
   "cell_type": "markdown",
   "metadata": {
    "id": "KxSIjTZuklR_"
   },
   "source": [
    "## **0.** Set-up"
   ]
  },
  {
   "cell_type": "markdown",
   "metadata": {
    "id": "VIqSFUcyVZxd"
   },
   "source": [
    "The following packages (and their dependencies) need to be installed to run this analysis.\n",
    "\n",
    "* `scanpy`: for pre-processing of the scRNA-seq expression data\n",
    "* `ViVAE`: for dimensionality reduction, plotting and evaluation of distortions via encoder indicatrices\n",
    "* `umap` and `sklearn`: to create alternative embeddings to the one obtained from ViVAE (UMAP, t-SNE)\n",
    "* `ViScore`: for unsupervised and supervised evaluation of embeddings\n",
    "* `flowsom`: for high-dimensional data clustering and construction of a minimum spanning tree (MST) to get a graph-based view of the data\n",
    "\n",
    "Your installation procedure may depend slightly on your Python version or virtual environment.\n",
    "If you are running this from Google Colab, you can install Python packages using the `%%bash` cell magic:"
   ]
  },
  {
   "cell_type": "code",
   "execution_count": null,
   "metadata": {
    "id": "h1z7jz8Hdum-"
   },
   "outputs": [],
   "source": [
    "%%bash\n",
    "pip install scanpy\n",
    "pip install pytometry\n",
    "pip install pandas\n",
    "pip install scikit-learn\n",
    "pip install git+https://github.com/saeyslab/FlowSOM_Python.git\n",
    "pip install git+https://github.com/saeyslab/ViVAE.git\n",
    "pip install \"dask[dataframe]\" --upgrade\n",
    "pip install pyemd==1.0.0\n",
    "pip install git+https://github.com/saeyslab/ViScore.git\n",
    "pip install umap-learn==0.5.6"
   ]
  },
  {
   "cell_type": "code",
   "execution_count": null,
   "metadata": {
    "id": "3qWtZTgkOc_O"
   },
   "outputs": [],
   "source": [
    "## Package imports\n",
    "\n",
    "import os\n",
    "import scanpy as sc\n",
    "import numpy as np\n",
    "import flowsom as fs\n",
    "import torch\n",
    "import ViVAE\n",
    "import umap\n",
    "from sklearn.manifold import TSNE\n",
    "import ViScore\n",
    "import pandas as pd\n",
    "import anndata as ad\n",
    "import matplotlib.pyplot as plt\n",
    "import copy"
   ]
  },
  {
   "cell_type": "markdown",
   "metadata": {
    "id": "8NQgnl8ukaix"
   },
   "source": [
    "<hr>\n",
    "\n",
    "Next, we download a [bone marrow scRNA-seq dataset](https://cellxgene.cziscience.com/e/c05fb583-eb2f-4e3a-8e74-f9bd6414e418.cxg/) from the following study:\n",
    "\n",
    "The Tabula Sapiens Consortium. **The Tabula Sapiens: A multiple-organ, single-cell transcriptomic atlas of humans**. Science 376, eabl4896(2022). DOI:10.1126/science.abl4896\n",
    "\n",
    "You can download the `.h5ad` file manually using your browser, or run the command below if using Colab:"
   ]
  },
  {
   "cell_type": "code",
   "execution_count": null,
   "metadata": {
    "id": "OUWEJ96dkbn_"
   },
   "outputs": [],
   "source": [
    "%%bash\n",
    "wget -O ./scrnaseq.h5ad https://datasets.cellxgene.cziscience.com/f56e0393-c2f3-42f3-93f1-7c8a4ee49d75.h5ad >/dev/null 2>&1"
   ]
  },
  {
   "cell_type": "markdown",
   "metadata": {
    "id": "J-6Hu5D2mVIz"
   },
   "source": [
    "<hr>\n",
    "\n",
    "## **1.** Pre-processing of input data"
   ]
  },
  {
   "cell_type": "markdown",
   "metadata": {
    "id": "iOiFS18Vp7sK"
   },
   "source": [
    "Using `scanpy` we import the expression data, apply some basic scaling and use principal component analysis (PCA) as a common pre-processing step ahead of the non-linear dimension reduction step.\n",
    "We use the top 100 PCs here, which is a slightly more conservative approach than the commonly used 50 PCs (however, there will typically be little difference in the resulting embeddings between the two choices).\n",
    "\n",
    "If the result of these pre-processing steps is already available and saved on disk, we just load it."
   ]
  },
  {
   "cell_type": "code",
   "execution_count": null,
   "metadata": {
    "id": "SsiLFUWqmTu8"
   },
   "outputs": [],
   "source": [
    "fname_pc = 'scrnaseq_pc.npy'\n",
    "if os.path.exists(fname_pc):\n",
    "  pc = np.load(fname_pc, allow_pickle=True)\n",
    "else:\n",
    "  hd = sc.read_h5ad('scrnaseq.h5ad')\n",
    "\n",
    "  ## If the data matrix contained cell counts, we would run:\n",
    "  # sc.pp.normalize_total(hd)     # min-max scaling per cell\n",
    "  # sc.pp.log1p(hd)               # x := log(1+x) transformation\n",
    "\n",
    "  sc.pp.scale(hd, max_value=10.) # z-standardisation of data\n",
    "  sc.tl.pca(hd, svd_solver='arpack', n_comps=100)\n",
    "    # principal component analysis to capture most variability in data\n",
    "  pc = hd.obsm['X_pca']\n",
    "  np.save('scrnaseq_pc.npy', pc, allow_pickle=True)"
   ]
  },
  {
   "cell_type": "markdown",
   "metadata": {
    "id": "hZtDD8IPvyQO"
   },
   "source": [
    "We will also extract cell type labels, provided by the authors.\n",
    "These will typically be included as one of the columns of the `hd.obs` data frame."
   ]
  },
  {
   "cell_type": "code",
   "execution_count": null,
   "metadata": {
    "id": "e2uymR-nqb-L"
   },
   "outputs": [],
   "source": [
    "fname_labs = 'scrnaseq_labs.npy'\n",
    "if os.path.exists(fname_labs):\n",
    "    labs = np.load(fname_labs, allow_pickle=True)\n",
    "else:\n",
    "    hd = sc.read_h5ad('./scrnaseq.h5ad')\n",
    "    labs = np.array(hd.obs['cell_type'])\n",
    "      # with different datasets, change 'cell_type' to appropriate column name\n",
    "    np.save(fname_labs, labs, allow_pickle=True)\n",
    "    del hd # delete `hd`` object from memory"
   ]
  },
  {
   "cell_type": "markdown",
   "metadata": {
    "id": "Y3XzG_fMwRqi"
   },
   "source": [
    "Now let's construct a *k*-nearest neighbour graph (k-NNG) and use it to denoise our PCA-transformed inputs.\n",
    "This increases local structure preservation in the lower-dimensional embedding downstream, resulting in visualisation of a more sharply defined skeleton of the point cloud.\n",
    "\n",
    "**Note:** You might also be interested in experimenting with other denoising techniques, *e.g.,* [MAGIC](https://github.com/KrishnaswamyLab/MAGIC) or [DCA](https://github.com/theislab/dca)."
   ]
  },
  {
   "cell_type": "code",
   "execution_count": null,
   "metadata": {
    "colab": {
     "base_uri": "https://localhost:8080/"
    },
    "id": "oOwDGEw0wjKe",
    "outputId": "ebc78cbb-eeb1-486b-8033-42fd2122183a"
   },
   "outputs": [],
   "source": [
    "## Find nearest neighbours of each point (approximate)\n",
    "knn = ViVAE.make_knn(x=pc, k=1000, fname='scrnaseq_knn.npy')\n",
    "  # k-NNG is loaded if already saved previously\n",
    "\n",
    "## Denoise PCA-transformed data based on k-NN relations\n",
    "pc_denoised = ViVAE.smooth(x=pc, knn=knn, k=50, coef=1., n_iter=1)"
   ]
  },
  {
   "cell_type": "markdown",
   "metadata": {
    "id": "FwPbM6_kU6zF"
   },
   "source": [
    "<hr>\n",
    "\n",
    "## **2.** Dimensionality reduction"
   ]
  },
  {
   "cell_type": "markdown",
   "metadata": {
    "id": "QMg-V9BlyxK0"
   },
   "source": [
    "Next we will set up a ViVAE model: a parametric dimension-reduction model based on a regularised variational autoencoder (VAE).\n",
    "\n",
    "We will train it to learn a non-linear transformation of our high-dimensional (HD) data into a lower-dimensional (LD) smooth latent space, achieving structure-preserving dimensionality reduction.\n",
    "\n",
    "The training is done using a combined loss function consisting of three terms:\n",
    "\n",
    "- **reconstruction error**: measures reconstruction of original data by decoder from LD representation sampled from the latent space\n",
    "\n",
    "- **KL-divergence from latent prior**: divergence from isotropic Gaussian latent prior using reparametrisation to maintain a smooth latent space (read more [here](https://stats.stackexchange.com/questions/199605/how-does-the-reparameterization-trick-for-vaes-work-and-why-is-it-important))\n",
    "\n",
    "- **MDS loss**: for joint optimisation of relative intra-quartet distances between repeatedly and randomly sampled points (see [SQuadMDS](https://dial.uclouvain.be/pr/boreal/object/boreal:264665) for original idea behind this)\n",
    "\n",
    "(The MDS loss is used to improve multi-scale structure preservation.)\n",
    "\n",
    "You can read the full documentation by running `help(ViVAE.ViVAE)`.\n",
    "\n",
    "Some tips on hyperparameter tuning:\n",
    "\n",
    "- Increase number of epochs (`n_epochs`) for better convergence or decrease it for shorter running times.\n",
    "\n",
    "- Increase batch size (`batch_size`) for faster training, decrease it for less memory usage.\n",
    "\n",
    "- Optimiser parameters (`learning_rate` and `weight_decay`) can be increased to speed up training, at the risk of instability and sub-optimal solutions."
   ]
  },
  {
   "cell_type": "code",
   "execution_count": null,
   "metadata": {
    "id": "ol_SnouYwwEn"
   },
   "outputs": [],
   "source": [
    "np.random.seed(42)\n",
    "torch.manual_seed(42)\n",
    "\n",
    "## Initialise model\n",
    "model = ViVAE.ViVAE(input_dim=pc.shape[1], latent_dim=2, random_state=42)\n",
    "\n",
    "## Train model\n",
    "model.fit(X=pc_denoised, n_epochs=100, batch_size=512, verbose=False)\n",
    "\n",
    "## Generate embedding\n",
    "emb = model.transform(pc_denoised)"
   ]
  },
  {
   "cell_type": "markdown",
   "metadata": {
    "id": "WzjFrBVvVCv5"
   },
   "source": [
    "We can now easily plot the 2-dimensional embedding using a colour scheme for points based on the cell population labels we extracted earlier."
   ]
  },
  {
   "cell_type": "code",
   "execution_count": null,
   "metadata": {
    "colab": {
     "base_uri": "https://localhost:8080/",
     "height": 990
    },
    "id": "C5Fip6QIyNje",
    "outputId": "72086dc4-67f7-4f83-e58f-9b2d0fbc1415"
   },
   "outputs": [],
   "source": [
    "emb = model.transform(pc_denoised)\n",
    "fig, ax = ViVAE.plot_embedding(emb, labels=labs, show=False)\n",
    "ax.set_title('Tabula Sapiens bone marrow')\n",
    "fig.set_figheight(4)\n",
    "fig.set_figwidth(4)\n",
    "fig"
   ]
  },
  {
   "cell_type": "markdown",
   "metadata": {},
   "source": [
    "It is also fairly easy to display some major cell compartments\\lineages separately.\n",
    "This gives us an idea of how the layout is organised overall."
   ]
  },
  {
   "cell_type": "code",
   "execution_count": null,
   "metadata": {},
   "outputs": [],
   "source": [
    "fig, ax = plt.subplots(nrows=1, ncols=5, figsize=(10,2))\n",
    "fig.subplots_adjust(wspace=.05)\n",
    "\n",
    "cell_subsets = ['Early progenitors', 'B lymphocytes', 'T lymphocytes', 'Erythroid lineage', 'Other myeloid']\n",
    "idcs = [\n",
    "    np.array(['stem cell' in lab or 'progenotor' in lab for lab in labs]),\n",
    "    np.array(['B cell' in lab or 'plasma' in lab for lab in labs]),\n",
    "    np.array(['T cell' in lab for lab in labs]),\n",
    "    np.array(['erythro' in lab for lab in labs]),\n",
    "    np.array([lab in ['neutrophil', 'macrophage', 'monocyte'] for lab in labs])\n",
    "]\n",
    "colours = ['orange', 'darkgreen', 'darkblue', 'darkviolet', 'darkred']\n",
    "\n",
    "for i in range(len(idcs)):\n",
    "    ax[i].scatter(emb[np.bitwise_not(idcs[i]),0], emb[np.bitwise_not(idcs[i]),1], c='grey', s=.1)\n",
    "    ax[i].scatter(emb[idcs[i],0], emb[idcs[i],1], c=colours[i], s=.1)\n",
    "    ax[i].tick_params(axis='both', labelbottom=False, labelleft=False, bottom=False, left=False)\n",
    "    ax[i].axis('equal')\n",
    "    ax[i].set_title(cell_subsets[i])"
   ]
  },
  {
   "cell_type": "markdown",
   "metadata": {
    "id": "ESCAJN0JVa0v"
   },
   "source": [
    "## **3.** Evaluating local distortions"
   ]
  },
  {
   "cell_type": "markdown",
   "metadata": {
    "id": "RQRuCX5Qy0jQ"
   },
   "source": [
    "We can also compute and plot encoder indicatrices, *i.e.*, indicators of local directed stretching of the data 2-manifold identified by the model.\n",
    "(These are based on decoder indicatrices as implemented in [Geometric Autoencoders](https://github.com/phnazari/GeometricAutoencoder); DOI: [arXiv:2306.17638](https://arxiv.org/abs/2306.17638).)\n",
    "\n",
    "Indicatrices are small, equally large hyperspheres in the original, high-dimensional (HD) space.\n",
    "They lie in the [horizontal tangent space](https://gemini.google.com/share/9d567cee0c08) of existing data points w.r.t. a linearisation of the learned encoding function.\n",
    "\n",
    "As an indicatrix is passed through the encoder, it can get distorted in two different ways.\n",
    "\n",
    "Firstly, its size can change relative to where it is located in the embedding.\n",
    "This indicates relative stretching or contraction of some parts of the points cloud as it gets flattened into a 2-d projection.\n",
    "\n",
    "Secondly, its shape can change (from a sphere to an ellipsis), which indicates a specific direction along which the distortion (stretching) occurs."
   ]
  },
  {
   "cell_type": "code",
   "execution_count": null,
   "metadata": {
    "colab": {
     "background_save": true
    },
    "id": "alf1dDg2Vknl"
   },
   "outputs": [],
   "source": [
    "## Compute and plot encoder indicatrices\n",
    "\n",
    "ei = model.encoder_indicatrices(X=pc_denoised, radius=1e-3, n_steps=30, n_polygon=200)\n",
    "fig, ax = ViVAE.plot_indicatrices(indicatrices=ei, scale_factor=4e2, figsize=(6,6), show=False)\n",
    "ax.set_title('Latent space distortions')\n",
    "fig.set_figheight(4)\n",
    "fig.set_figwidth(4)\n",
    "fig"
   ]
  },
  {
   "cell_type": "markdown",
   "metadata": {},
   "source": [
    "As examples of distortion, we can see some artificial shrinking of the part of the embedding containing monocytes and other granulocytes, and some 'run-away' stretching effect in the plasma cells.\n",
    "\n",
    "<details>\n",
    "<summary><b>How to plot nice encoder indicatrices</b></summary>\n",
    "\n",
    "The computation and plotting of indicatrices is not fully automated yet.\n",
    "Because of this, there are some parameters that need to be tweaked to make them informative.\n",
    "Luckily, the computation is typically fast, so it is easy to make adjustments iteratively.\n",
    "\n",
    "Crucially, the hyperspheres should have a small radius (`radius` argument in `model.encoder_indicatrices`), but not so small that the resulting shapes in the plot have sharp, as opposed to smooth, edges.\n",
    "\n",
    "If the radius is set too large, the resulting plot may show a C-shape, S-shape or other deformation of an ellipsis, in place of the ellipses we can see above. This is because the hyperspheres reach too far away from the data points and capture deformation outside the horizontal tangent space. Such a visualisation is typically less informative.\n",
    "\n",
    "Note that the `scale_factor` in `plot_indicatrices` arguments also need to be adapted for a good plot (*i.e.*, indicatrices should be plotted large enough to be informative, but small enough to not have too much overlap).\n",
    "\n",
    "These are some additional arguments you can alter:\n",
    "\n",
    "- `n_steps` in `encoder_indicatrices` determines the density of indicatrices (which are sampled on a grid). Higher values will ensure better coverage of the space, but cause a more cluttered plot.\n",
    "\n",
    "- `n_polygon` in `encoder_indicatrices` determined how many points per indicatrix are sampled. Higher values will ensure higher-quality graphical output, but may increase execution time if extremely high.\n",
    "\n",
    "</details>\n",
    "\n",
    "<br>\n",
    "<hr>"
   ]
  },
  {
   "cell_type": "markdown",
   "metadata": {
    "id": "yZbJT3g4SvP1"
   },
   "source": [
    "## **4.** FlowSOM integration\n",
    "\n",
    "Although designed originally for cytometry data analysis, FlowSOM has emerged as one of the go-to methods for clustering of single-cell datasets.\n",
    "Thanks to this, many researchers are used to interpreting the graphical outputs of FlowSOM analyses.\n",
    "If you are one of them, you can apply automated clustering to the original expression data and inspect how concordant the ViVAE embedding is with your FlowSOM results.\n",
    "\n",
    "First, let's train a FlowSOM model on the PCA-transformed representation of our expression data."
   ]
  },
  {
   "cell_type": "code",
   "execution_count": null,
   "metadata": {
    "colab": {
     "background_save": true
    },
    "id": "8dQpvksYYopx",
    "outputId": "62a36182-5916-4217-c2f5-433345a1ee65"
   },
   "outputs": [],
   "source": [
    "## Wrap PCA-reduced data in an AnnData object\n",
    "hdf = ad.AnnData(pc)\n",
    "colnames = [f'PC{i+1}' for i in range(pc.shape[1])]\n",
    "hdf.var = pd.DataFrame(\n",
    "      {'n': range(pc.shape[1]), 'channel': colnames, 'marker': colnames}\n",
    "  )\n",
    "\n",
    "## Run FlowSOM\n",
    "fsom = fs.FlowSOM(hdf, n_clusters=40, xdim=12, ydim=12, seed=42)"
   ]
  },
  {
   "cell_type": "markdown",
   "metadata": {
    "id": "Xs-X3G-hhGAI"
   },
   "source": [
    "Now we can easily map the FlowSOM minimum spanning tree (MST) onto our embedding, obtaining an additional graph-based view of the data.\n",
    "\n",
    "For instance, we can check the concordance of the FlowSOM tree topology."
   ]
  },
  {
   "cell_type": "code",
   "execution_count": null,
   "metadata": {
    "colab": {
     "background_save": true
    },
    "id": "8y7ZrlPOaFr9",
    "outputId": "a72dc5a6-cf01-46e3-e5e3-cad8b992bc14"
   },
   "outputs": [],
   "source": [
    "fig, ax = ViVAE.plot_embedding(embedding=emb, labels=labs, s=1., fsom=fsom, dr_model=model, fsom_show_nodes=False, show=False)\n",
    "ax.get_legend().remove()\n",
    "ax.set_title('FlowSOM MST topology')\n",
    "fig.set_figheight(4)\n",
    "fig.set_figwidth(4)\n",
    "fig"
   ]
  },
  {
   "cell_type": "markdown",
   "metadata": {
    "id": "dIh03PKQhmgW"
   },
   "source": [
    "The MST topology only partially agrees with known cell developmental lineages.\n",
    "Furthermore, erythrocytes are not separated into their own cluster (no node of the tree is anchored in the red island at the top-left of the embedding).\n",
    "\n",
    "<hr>\n",
    "\n",
    "We can also view the composition of FlowSOM clusters in terms of manually labelled populations."
   ]
  },
  {
   "cell_type": "code",
   "execution_count": null,
   "metadata": {
    "colab": {
     "background_save": true
    },
    "id": "NLBINrxdht5z",
    "outputId": "57119df2-f061-4349-8269-7f0f72b10e53"
   },
   "outputs": [],
   "source": [
    "fig, ax = ViVAE.plot_embedding(embedding=emb, labels=labs, s=.1, fsom=fsom, fsom_node_scale=.01, dr_model=model, show=False)\n",
    "ax.set_title('FlowSOM cluster compositions')\n",
    "fig.set_figheight(4)\n",
    "fig.set_figwidth(4)\n",
    "fig"
   ]
  },
  {
   "cell_type": "markdown",
   "metadata": {
    "id": "K27kF218KhWA"
   },
   "source": [
    "We can see that erythrocytes were clustered together with erythroid progenitors.\n",
    "\n",
    "Moreover, the separation of a partially distinct island of hematopoietic stem cells by ViVAE is supported by the FlowSOM clustering.\n",
    "A further analysis of differential expression would reveal a distinct phenotype responsible for this separation.\n",
    "\n",
    "<hr>\n",
    "\n",
    "We can check out how the top principal component (PC) values vary across the embedding, revealing what kind of variation the top components capture."
   ]
  },
  {
   "cell_type": "code",
   "execution_count": null,
   "metadata": {
    "colab": {
     "background_save": true
    },
    "id": "AXDHwZqVKPgg",
    "outputId": "b7a9aef8-59fc-49b9-de1e-57fbbf144763"
   },
   "outputs": [],
   "source": [
    "fig, ax = ViVAE.plot_embedding(embedding=emb, labels=labs, s=1., fsom=fsom, fsom_node_scale=.01, dr_model=model, fsom_view='markers', fsom_markers=['PC1','PC2','PC3','PC4', 'PC5'], show=False)\n",
    "ax.set_title('Top 5 PC values')\n",
    "fig.set_figheight(8)\n",
    "fig.set_figwidth(10)\n",
    "fig"
   ]
  },
  {
   "cell_type": "markdown",
   "metadata": {
    "id": "Ev6h70B4LU0c"
   },
   "source": [
    "We can see that PC1 separates neutrophils (high values) from monocytes (medium values) and the rest of the cells.\n",
    "High PC2 values roughly separate out erythroid cells from the rest.\n",
    "Monocytes are isolated by high PC3 values.\n",
    "Plasma cells are distinguishable by high PC4 values.\n",
    "PC5 is less straightforward to interpret.\n",
    "\n",
    "There are other options for integrating FlowSOM trees into 2-dimensional embeddings from ViVAE: check out `help(ViVAE.plot_embedding)`.\n",
    "\n",
    "<hr>"
   ]
  },
  {
   "cell_type": "markdown",
   "metadata": {
    "id": "2__q_X2vhjd-"
   },
   "source": [
    "## **5.** Visual comparison of *t*-SNE, *UMAP* and *ViVAE*"
   ]
  },
  {
   "cell_type": "markdown",
   "metadata": {
    "id": "fa3nLJushqr-"
   },
   "source": [
    "Next, we will generate a *t*-SNE and *UMAP* embedding to compare with the one we obtained from ViVAE.\n",
    "We use default settings for each method, and non-denoised inputs (in our paper we evaluate both methods with the use of denoising as well).\n",
    "This can be tinkered with."
   ]
  },
  {
   "cell_type": "code",
   "execution_count": null,
   "metadata": {
    "colab": {
     "background_save": true
    },
    "id": "yHJyjvxOi6NO"
   },
   "outputs": [],
   "source": [
    "## Generate t-SNE embedding\n",
    "\n",
    "model_tsne = TSNE(n_components=2, perplexity=30., random_state=42)\n",
    "emb_tsne = model_tsne.fit_transform(pc)"
   ]
  },
  {
   "cell_type": "code",
   "execution_count": null,
   "metadata": {},
   "outputs": [],
   "source": [
    "## Generate UMAP embedding\n",
    "\n",
    "model_umap = umap.UMAP(random_state=42) # this disables multi-threading, making UMAP run slower\n",
    "model_umap.fit(pc)\n",
    "emb_umap = model_umap.transform(pc)"
   ]
  },
  {
   "cell_type": "markdown",
   "metadata": {
    "id": "kGcZdgUTi8M3"
   },
   "source": [
    "We can use the same ViVAE plotting function to conveniently display the t-SNE and UMAP embeddings.\n",
    "\n",
    "(We can also readily superimpose the FlowSOM MST over the UMAP embedding, since the model has a `.transform` method.\n",
    "This is not possible with the t-SNE plot, unless we decide how to embed cluster centers within the existing embedding.)"
   ]
  },
  {
   "cell_type": "code",
   "execution_count": null,
   "metadata": {
    "colab": {
     "background_save": true
    },
    "id": "PkEbavynMVL_",
    "outputId": "c2b7bf75-4f04-4454-ed7c-c837b6ecaa3f"
   },
   "outputs": [],
   "source": [
    "## Show the t-SNE embedding\n",
    "\n",
    "fig_tsne, ax_tsne = ViVAE.plot_embedding(emb_tsne, labels=labs, show=False)\n",
    "ax_tsne.set_title('t-SNE embedding')\n",
    "fig_tsne.set_figheight(4)\n",
    "fig_tsne.set_figwidth(4)\n",
    "fig_tsne"
   ]
  },
  {
   "cell_type": "code",
   "execution_count": null,
   "metadata": {},
   "outputs": [],
   "source": [
    "## Show the UMAP embedding\n",
    "\n",
    "fig_umap, ax_umap = ViVAE.plot_embedding(embedding=emb_umap, labels=labs, show=False)\n",
    "ax_umap.set_title('UMAP embedding')\n",
    "fig_umap.set_figheight(4)\n",
    "fig_umap.set_figwidth(4)\n",
    "fig_umap"
   ]
  },
  {
   "cell_type": "markdown",
   "metadata": {},
   "source": [
    "We also produce an ad-hoc plot to locate erythrocytes in the UMAP embedding, since they are notably separated into two disjoint islands."
   ]
  },
  {
   "cell_type": "code",
   "execution_count": null,
   "metadata": {},
   "outputs": [],
   "source": [
    "## Erythrocytes in UMAP embedding\n",
    "\n",
    "plt.scatter(emb_umap[:,0], emb_umap[:,1], c='gray', s=.1)\n",
    "plt.scatter(emb_umap[np.array(labs=='erythrocyte'),0], emb_umap[np.array(labs=='erythrocyte'),1], c='red', s=5.)\n",
    "plt.tick_params(axis='both', labelbottom=False, labelleft=False, bottom=False, left=False)\n",
    "ax = plt.gca()\n",
    "ax.set_aspect('equal', adjustable='box')\n",
    "plt.title('Erythrocytes in UMAP embedding')\n",
    "plt.draw()"
   ]
  },
  {
   "cell_type": "code",
   "execution_count": null,
   "metadata": {},
   "outputs": [],
   "source": [
    "## UMAP embedding with FlowSOM MST\n",
    "\n",
    "fig_umap, ax_umap = ViVAE.plot_embedding(embedding=emb_umap, labels=labs, s=.1, fsom=fsom, fsom_node_scale=.01, dr_model=model_umap, show=False)\n",
    "ax_umap.set_title('UMAP embedding with FlowSOM MST')\n",
    "fig_umap.set_figheight(4)\n",
    "fig_umap.set_figwidth(4)\n",
    "fig_umap"
   ]
  },
  {
   "cell_type": "markdown",
   "metadata": {},
   "source": [
    "<hr>\n",
    "\n",
    "We can now compare what the lineage separation looks like in each of our embeddings.\n",
    "This will give us an idea of how different populations are separated, as well as how apparent known developmental gradients and lineages are."
   ]
  },
  {
   "cell_type": "code",
   "execution_count": null,
   "metadata": {},
   "outputs": [],
   "source": [
    "fig, ax = plt.subplots(nrows=3, ncols=5, figsize=(10,6))\n",
    "fig.subplots_adjust(wspace=.05, hspace=.05)\n",
    "\n",
    "embs = [emb_tsne, emb_umap, emb]\n",
    "methods = ['t-SNE', 'UMAP', 'ViVAE']\n",
    "cell_subsets = ['Early progenitors', 'B lymphocytes', 'T lymphocytes', 'Erythroid lineage', 'Other myeloid']\n",
    "idcs = [\n",
    "    np.array(['stem cell' in lab or 'progenotor' in lab for lab in labs]),\n",
    "    np.array(['B cell' in lab or 'plasma' in lab for lab in labs]),\n",
    "    np.array(['T cell' in lab for lab in labs]),\n",
    "    np.array(['erythro' in lab for lab in labs]),\n",
    "    np.array([lab in ['neutrophil', 'macrophage', 'monocyte'] for lab in labs])\n",
    "]\n",
    "colours = ['orange', 'darkgreen', 'darkblue', 'darkviolet', 'darkred']\n",
    "\n",
    "for m in range(len(methods)):\n",
    "    e = embs[m]\n",
    "    for i in range(len(idcs)):\n",
    "        ax[m][i].scatter(e[np.bitwise_not(idcs[i]),0], e[np.bitwise_not(idcs[i]),1], c='grey', s=.1)\n",
    "        ax[m][i].scatter(e[idcs[i],0], e[idcs[i],1], c=colours[i], s=.1)\n",
    "        ax[m][i].tick_params(axis='both', labelbottom=False, labelleft=False, bottom=False, left=False)\n",
    "        ax[m][i].axis('equal')\n",
    "        if m==0:\n",
    "            ax[m][i].set_title(cell_subsets[i])\n",
    "for a, row in zip(ax[:,0], methods):\n",
    "    a.annotate(row, xy=(0, .5), xytext=(0, 0), xycoords=a.yaxis.label, textcoords='offset points', size=6, weight='bold', ha='right', va='center')"
   ]
  },
  {
   "cell_type": "markdown",
   "metadata": {},
   "source": [
    "Each embedding achieves some form of separation between the cell compartments.\n",
    "It is immediately apparent that t-SNE and UMAP tend to introduce more gaps between cell populations, whereas ViVAE learns a smoother embedding.\n",
    "The more continuous nature of transitions between embedded cell populations is a commonly observed property of VAE-generated projections.\n",
    "\n",
    "<details>\n",
    "<summary><b>Where the smoother ViVAE embedding helps</b></summary>\n",
    "\n",
    "The prevailing bias toward fragmentation by t-SNE and UMAP can produce misleading results.\n",
    "For instance, the **developmental gradient from hematopoietic stem cell (HSC) through the common myeloid progenitor (CMP) to the erythroid progenitor (EP) is less apparent in the t-SNE layout** due to this.\n",
    "\n",
    "**In UMAP, the erythrocyte population is fragmented into two disjoint islands** (as shown above), and **the HSC->CMP->EP->erythrocyte gradient is obscured**, in contrast to t-SNE and ViVAE.\n",
    "\n",
    "**The ViVAE embedding achieves the least fragmented embedding of monocytes, with the least tendency to break up monocytes into two distinct islands with the granulocyte population in between**.\n",
    "\n",
    "Although all 3 embedding struggle with **capturing the developmental pathway from CMPs to neutrophils and monocytes (while simultaneously maintaing a trajectory toward erythrocytes)**, ViVAE shows the most continuous connection.\n",
    "\n",
    "Moreover, **the neutrophil-monocyte bifurcation is best represented by ViVAE**.\n",
    "\n",
    "<hr>\n",
    "</details>\n",
    "\n",
    "<details>\n",
    "<summary><b>What the smoother ViVAE embedding does not solve</b></summary>\n",
    "\n",
    "Some apparent gradients in low-dimensional embeddings can be misinterpreted, be it with t-SNE, UMAP or methods typically more suitable for global structure-preservation (*e.g.*, top 2 PCs, [diffusion maps](https://bioconductor.org/packages/release/bioc/vignettes/destiny/inst/doc/Diffusion-Maps.html), [PHATE](https://github.com/KrishnaswamyLab/PHATE)).\n",
    "\n",
    "For instance, the co-location of naive and memory B cells, while indicating similarity in phenotype, is unlikely to show a credible developmental trajectory.\n",
    "This is because the transition from naive to memory occurs primarily in secondary lymphoid organs (*i.e.*, outside of the bone marrow, which we are looking at here).\n",
    "\n",
    "However, this potentially confusing co-location also happens in the t-SNE and UMAP embeddings.\n",
    "\n",
    "A similar case is that of HSCs appearing close to the T-cell island: the T cells originate from outside the bone marrow, and T-lymphopoiesis, if occuring, takes place in the thymus.\n",
    "Again, this artifact is not unique to the smooth embedding generated by ViVAE, even if it is also apparent there.\n",
    "\n",
    "</details>\n",
    "\n",
    "<br>\n",
    "<hr>"
   ]
  },
  {
   "cell_type": "markdown",
   "metadata": {},
   "source": [
    "## **6.** Unsupervised evaluation of DR\n",
    "\n",
    "To evaluate Local and Global Structure Preservation (SP), we will use ViScore.\n",
    "ViScore enables quick and accurate approximation of $R_{\\mathrm{NX}}$ curves, making it possible to measure multi-scale structure preservation in an objective manner.\n",
    "(This has previously been unfeasible for larger datasets.)"
   ]
  },
  {
   "cell_type": "code",
   "execution_count": null,
   "metadata": {
    "colab": {
     "background_save": true
    },
    "id": "J9u496P6YqMK"
   },
   "outputs": [],
   "source": [
    "## Compare embeddings w.r.t. preserving structures from the input data\n",
    "\n",
    "s_tsne  = ViScore.score(hd=pc, ld=emb_tsne)\n",
    "s_umap  = ViScore.score(hd=pc, ld=emb_umap)\n",
    "s_vivae = ViScore.score(hd=pc, ld=emb) # using non-denoised data here (otherwise the comparison would be invalid)"
   ]
  },
  {
   "cell_type": "code",
   "execution_count": null,
   "metadata": {
    "colab": {
     "background_save": true
    },
    "id": "kaC5LcKHjQUF",
    "outputId": "6911a20e-611e-4c61-eddd-70964e6e8cf3"
   },
   "outputs": [],
   "source": [
    "## Report t-SNE, UMAP and ViVAE structure-preservation scores\n",
    "\n",
    "print(f't-SNE:\\n\\tLocal SP:\\t{s_tsne[\"Sl\"]:.3f} \\n\\tGlobal SP:\\t{s_tsne[\"Sg\"]:.3f}')\n",
    "print(f'UMAP: \\n\\tLocal SP:\\t{s_umap[\"Sl\"]:.3f} \\n\\tGlobal SP:\\t{s_umap[\"Sg\"]:.3f}')\n",
    "print(f'ViVAE:\\n\\tLocal SP:\\t{s_vivae[\"Sl\"]:.3f}\\n\\tGlobal SP:\\t{s_vivae[\"Sg\"]:.3f}')"
   ]
  },
  {
   "cell_type": "markdown",
   "metadata": {},
   "source": [
    "We report results from a larger benchmark with 11 DR set-ups and 8 scRNA-seq datasets in our study.\n",
    "\n",
    "<hr>"
   ]
  },
  {
   "cell_type": "markdown",
   "metadata": {},
   "source": [
    "## **7.** Supervised evaluation of DR\n",
    "\n",
    "We use the Extended Neighbourhood-Proportion-Error (xNPE), based on the [NPE](https://www.biorxiv.org/content/10.1101/273862v1), to quantify the distortion in shape and position of embedded cell populations, making use of a 'ground-truth' annotation of cell types.\n",
    "\n",
    "The xNPE returns a separate value for each population, rather than one score per embedding.\n",
    "Similarly to encoder indicatrices, the xNPE gives a more specific idea of which parts of the embedding are affected.\n",
    "In contrast to the indicatrices, they are quantitative, are model-independent and are a supervised evaluation metric (use labels).\n",
    "\n",
    "In addition to the xNPE, we use neighbourhood composition plots to identify sources of error in embedded populations.\n",
    "Using a sliding window approach, we calculate proportions of labelled populations across neighbourhoods of different sizes for cells in a population of interest (POI).\n",
    "These are compared with the original (high-dimensional) neighbourhood structure, in order to pinpoint errors in the relative positioning of populations as they appear in a given embedding."
   ]
  },
  {
   "cell_type": "code",
   "execution_count": null,
   "metadata": {
    "colab": {
     "background_save": true
    },
    "id": "SxFd_85xbLCN"
   },
   "outputs": [],
   "source": [
    "## Calculate xNPE\n",
    "\n",
    "xnpe_tsne  = ViScore.xnpe(hd=pc, ld=emb_tsne, annot=labs, knn=knn)\n",
    "xnpe_umap  = ViScore.xnpe(hd=pc, ld=emb_umap, annot=labs, knn=knn)\n",
    "xnpe_vivae = ViScore.xnpe(hd=pc, ld=emb, annot=labs, knn=knn)"
   ]
  },
  {
   "cell_type": "code",
   "execution_count": null,
   "metadata": {
    "colab": {
     "background_save": true
    },
    "id": "c3MCzj0hiWwD",
    "outputId": "5e2c4d00-12c3-4e8d-9ab6-9c669f9314ef"
   },
   "outputs": [],
   "source": [
    "## Plot xNPE results per population\n",
    "\n",
    "fig, ax = ViScore.plot_xnpe_barplot(\n",
    "  res=[xnpe_tsne, xnpe_umap, xnpe_vivae],\n",
    "  res_names=['t-SNE', 'UMAP', 'ViVAE'],\n",
    "  figsize=(12,6),\n",
    "  palette=['azure', 'darkorange', 'teal'],\n",
    "  show=False\n",
    ")\n",
    "ax.set_title('Population-wise embedding errors')\n",
    "fig.set_figwidth(8)\n",
    "fig.set_figheight(3)\n",
    "fig"
   ]
  },
  {
   "cell_type": "markdown",
   "metadata": {
    "id": "Kvlfd-j9kPu-"
   },
   "source": [
    "We can see that the ViVAE embedding generally gives lowest error values.\n",
    "Exceptions to this include the mature NK T cell and CD8+ $\\alpha$-$\\beta$ T cell populations.\n",
    "\n",
    "<details>\n",
    "<summary><b>How xNPE differs from the Local and Global SP scores</b></summary>\n",
    "\n",
    "While the Local and Global SP scores focus on all points in an embedding in an unbiased way, the xNPE focuses more on points at the edges of each labelled population and, consequently, how the populations are positioned with respect to each other (we present a proof-of-concept study in our paper).\n",
    "In effect, the xNPE uses cell annotations to focus on structures which are important for telling cell populations apart reliably and putting them in the correct place.\n",
    "\n",
    "</details>\n",
    "\n",
    "<hr>\n",
    "\n",
    "By inspecting neighbourhood compositions for populations of interest (POIs), we can further describe the discrepancy between relative positioning of cell populations in the original data and each of the embeddings.\n",
    "We will do this for *NK T cells* (where ViVAE underperformed) and *granulocytes* (where it outperformed the other two methods)."
   ]
  },
  {
   "cell_type": "code",
   "execution_count": null,
   "metadata": {
    "colab": {
     "background_save": true
    },
    "id": "WYfrv7qJm9BV"
   },
   "outputs": [],
   "source": [
    "## Calculate neighbourhood compositions for mature NK T cells\n",
    "\n",
    "nc_nkt_hd    = ViScore.neighbourhood_composition(X=pc,       pop='mature NK T cell', annot=labs)\n",
    "nc_nkt_tsne  = ViScore.neighbourhood_composition(X=emb_tsne, pop='mature NK T cell', annot=labs)\n",
    "nc_nkt_umap  = ViScore.neighbourhood_composition(X=emb_umap, pop='mature NK T cell', annot=labs)\n",
    "nc_nkt_vivae = ViScore.neighbourhood_composition(X=emb,      pop='mature NK T cell', annot=labs)"
   ]
  },
  {
   "cell_type": "code",
   "execution_count": null,
   "metadata": {},
   "outputs": [],
   "source": [
    "## Calculate neighbourhood compositions for granulocytes\n",
    "\n",
    "nc_gra_hd    = ViScore.neighbourhood_composition(X=pc,       pop='granulocyte', annot=labs)\n",
    "nc_gra_tsne  = ViScore.neighbourhood_composition(X=emb_tsne, pop='granulocyte', annot=labs)\n",
    "nc_gra_umap  = ViScore.neighbourhood_composition(X=emb_umap, pop='granulocyte', annot=labs)\n",
    "nc_gra_vivae = ViScore.neighbourhood_composition(X=emb,      pop='granulocyte', annot=labs)"
   ]
  },
  {
   "cell_type": "code",
   "execution_count": null,
   "metadata": {
    "colab": {
     "background_save": true
    },
    "id": "Q-jmi9IYnhQY",
    "outputId": "7be37489-ae2a-4226-d3c7-53864c3188b8"
   },
   "outputs": [],
   "source": [
    "## Generate neighbourhood composition plots\n",
    "\n",
    "fig_hd, ax_hd = ViScore.neighbourhood_composition_plot(nc=nc_nkt_hd, show=False)\n",
    "ax_hd.set_title('NK T cell neighbourhood composition: original')\n",
    "fig_hd.set_figwidth(5); fig_hd.set_figheight(2)\n",
    "\n",
    "fig_tsne, ax_tsne = ViScore.neighbourhood_composition_plot(nc=nc_nkt_tsne, show=False)\n",
    "ax_tsne.set_title('NK T cell neighbourhood composition: t-SNE')\n",
    "ax_tsne.get_legend().remove()\n",
    "fig_tsne.set_figwidth(5); fig_tsne.set_figheight(2)\n",
    "\n",
    "fig_umap, ax_umap = ViScore.neighbourhood_composition_plot(nc=nc_nkt_umap, show=False)\n",
    "ax_umap.set_title('NK T cell neighbourhood composition: UMAP')\n",
    "ax_umap.get_legend().remove()\n",
    "fig_umap.set_figwidth(5); fig_umap.set_figheight(2)\n",
    "\n",
    "fig_vivae, ax_vivae = ViScore.neighbourhood_composition_plot(nc=nc_nkt_vivae, show=False)\n",
    "ax_vivae.set_title('NK T cell neighbourhood composition: ViVAE')\n",
    "ax_vivae.get_legend().remove()\n",
    "fig_vivae.set_figwidth(5); fig_vivae.set_figheight(2)"
   ]
  },
  {
   "cell_type": "markdown",
   "metadata": {},
   "source": [
    "We start with the NK T cell population.\n",
    "\n",
    "First, we plot the neighbourhood composition for our original high-dimensional input.\n",
    "This is the 'ground truth' that we want the neighbourhood composition plots for our embeddings to resemble as much as possible."
   ]
  },
  {
   "cell_type": "code",
   "execution_count": null,
   "metadata": {
    "colab": {
     "background_save": true
    },
    "id": "dXcXcWSAnp3d",
    "outputId": "c27b6f8f-f406-4b6d-db48-c9bc941abb7b"
   },
   "outputs": [],
   "source": [
    "fig_hd"
   ]
  },
  {
   "cell_type": "markdown",
   "metadata": {},
   "source": [
    "Next, we plot the compositions for our embeddings."
   ]
  },
  {
   "cell_type": "code",
   "execution_count": null,
   "metadata": {},
   "outputs": [],
   "source": [
    "fig_tsne"
   ]
  },
  {
   "cell_type": "code",
   "execution_count": null,
   "metadata": {},
   "outputs": [],
   "source": [
    "fig_umap"
   ]
  },
  {
   "cell_type": "code",
   "execution_count": null,
   "metadata": {},
   "outputs": [],
   "source": [
    "fig_vivae"
   ]
  },
  {
   "cell_type": "markdown",
   "metadata": {},
   "source": [
    "We can see an exaggerated proximity to the CD8+ population in the ViVAE embedding, as well as artificial intrusion of memory B cells (which also occurs to a lesser extent in the t-SNE embedding).\n",
    "\n",
    "When we look at the ViVAE embedding, we can see that the T cell compartment, although visibly separate, is indeed rather close to the B cell compartment and runs parallel to it.\n",
    "This corresponds to the neighbourhood composition profile.\n",
    "\n",
    "<hr>\n",
    "\n",
    "Next, we plot the compositions for granulocytes."
   ]
  },
  {
   "cell_type": "code",
   "execution_count": null,
   "metadata": {},
   "outputs": [],
   "source": [
    "## Plot compositions\n",
    "\n",
    "fig_hd, ax_hd = ViScore.neighbourhood_composition_plot(nc=nc_gra_hd, show=False)\n",
    "ax_hd.set_title('Granulocyte neighbourhood composition: original')\n",
    "fig_hd.set_figwidth(5); fig_hd.set_figheight(2)\n",
    "\n",
    "fig_tsne, ax_tsne = ViScore.neighbourhood_composition_plot(nc=nc_gra_tsne, show=False)\n",
    "ax_tsne.set_title('Granulocyte neighbourhood composition: t-SNE')\n",
    "ax_tsne.get_legend().remove()\n",
    "fig_tsne.set_figwidth(5); fig_tsne.set_figheight(2)\n",
    "\n",
    "fig_umap, ax_umap = ViScore.neighbourhood_composition_plot(nc=nc_gra_umap, show=False)\n",
    "ax_umap.set_title('Granulocyte neighbourhood composition: UMAP')\n",
    "ax_umap.get_legend().remove()\n",
    "fig_umap.set_figwidth(5); fig_umap.set_figheight(2)\n",
    "\n",
    "fig_vivae, ax_vivae = ViScore.neighbourhood_composition_plot(nc=nc_gra_vivae, show=False)\n",
    "ax_vivae.set_title('Granulocyte neighbourhood composition: ViVAE')\n",
    "ax_vivae.get_legend().remove()\n",
    "fig_vivae.set_figwidth(5); fig_vivae.set_figheight(2)"
   ]
  },
  {
   "cell_type": "code",
   "execution_count": null,
   "metadata": {
    "colab": {
     "background_save": true
    },
    "id": "2DgiCsB6nsI7",
    "outputId": "cf2e50de-04c8-4481-9b1c-1126a1abeaf5"
   },
   "outputs": [],
   "source": [
    "fig_hd"
   ]
  },
  {
   "cell_type": "code",
   "execution_count": null,
   "metadata": {},
   "outputs": [],
   "source": [
    "fig_tsne"
   ]
  },
  {
   "cell_type": "code",
   "execution_count": null,
   "metadata": {},
   "outputs": [],
   "source": [
    "fig_umap"
   ]
  },
  {
   "cell_type": "code",
   "execution_count": null,
   "metadata": {},
   "outputs": [],
   "source": [
    "fig_vivae"
   ]
  },
  {
   "cell_type": "markdown",
   "metadata": {},
   "source": [
    "In this case, the t-SNE and UMAP put the granulocyte population artificially close to HSCs, with an uneven pattern across the *x*-axis due to a over-dispersion of the HSC population across the embedding.\n",
    "\n",
    "Interestingly, the neighbourhood structure in the original data indicate a proximity to CD4+ T cells, which is decreased in all three embeddings, but the least in the one from ViVAE.\n",
    "\n",
    "<hr>"
   ]
  }
 ],
 "metadata": {
  "accelerator": "GPU",
  "colab": {
   "gpuType": "T4",
   "provenance": []
  },
  "kernelspec": {
   "display_name": "ViVAE",
   "language": "python",
   "name": "python3"
  },
  "language_info": {
   "codemirror_mode": {
    "name": "ipython",
    "version": 3
   },
   "file_extension": ".py",
   "mimetype": "text/x-python",
   "name": "python",
   "nbconvert_exporter": "python",
   "pygments_lexer": "ipython3",
   "version": "3.11.9"
  }
 },
 "nbformat": 4,
 "nbformat_minor": 0
}
